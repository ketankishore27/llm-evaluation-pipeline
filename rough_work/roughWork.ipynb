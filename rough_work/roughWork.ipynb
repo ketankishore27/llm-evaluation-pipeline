{
 "cells": [
  {
   "cell_type": "markdown",
   "id": "debe3761-b64c-4455-90bb-328fe63866f7",
   "metadata": {},
   "source": [
    "## Batch Retrieval Process Begin"
   ]
  },
  {
   "cell_type": "code",
   "execution_count": 1,
   "id": "853f010f-5eab-4951-9f06-82ab1fb88b33",
   "metadata": {},
   "outputs": [],
   "source": [
    "import os\n",
    "from openai import AzureOpenAI\n",
    "import json\n",
    "import pandas as pd\n",
    "from typing import List, Any\n",
    "import sys\n",
    "import sqlite3\n",
    "from datetime import datetime\n",
    "import re"
   ]
  },
  {
   "cell_type": "code",
   "execution_count": 2,
   "id": "697bbfb6-7b85-4618-be96-0e2bade706c7",
   "metadata": {},
   "outputs": [],
   "source": [
    "client = AzureOpenAI(\n",
    "        azure_endpoint=\"https://voicecast-gpt-france.openai.azure.com/\",\n",
    "        api_key=os.environ[\"OPENAI_API_KEY\"],\n",
    "        api_version=\"2025-01-01-preview\",\n",
    "    )"
   ]
  },
  {
   "cell_type": "code",
   "execution_count": 3,
   "id": "da972f8f-b167-41a3-9ff5-7f3275342b05",
   "metadata": {},
   "outputs": [],
   "source": [
    "def get_tracking_db_connection(name: str) -> Any:\n",
    "\n",
    "    print(\"*\" * 8, \"Check DB Connection\")\n",
    "    try:\n",
    "        conn = sqlite3.connect(f'{name}.db')\n",
    "        cursor = conn.cursor()\n",
    "        cursor.execute(f\"\"\"\n",
    "                SELECT count(name) \n",
    "                FROM sqlite_master \n",
    "                WHERE type='table' AND name='{name}';\n",
    "            \"\"\")\n",
    "        \n",
    "        if cursor.fetchone()[0] == 0:\n",
    "            return None\n",
    "        \n",
    "        else:\n",
    "            return cursor\n",
    "\n",
    "    except Exception as e:\n",
    "        print(e)\n",
    "        return None"
   ]
  },
  {
   "cell_type": "code",
   "execution_count": 4,
   "id": "0642f3e7-4b15-44b1-a632-b4a7058f8494",
   "metadata": {},
   "outputs": [],
   "source": [
    "def get_batchRequests(TRACK_DB: str, cursor) -> pd.DataFrame:\n",
    "    print(\"*\" * 8, \"Get Requests to Track\")\n",
    "    return pd.read_sql_query(f\"Select * from {TRACK_DB} where tracking_reference = 'TRACK'\", cursor.connection)"
   ]
  },
  {
   "cell_type": "code",
   "execution_count": 5,
   "id": "15d24fd1-8d0d-4554-9418-a1e113ce166e",
   "metadata": {},
   "outputs": [],
   "source": [
    "def retrieve_batch_completions(output_file_id: str) -> List[Any]:\n",
    "\n",
    "    print(\"*\" * 8, \"Retrieve Batch Completions\")\n",
    "    result_list = []\n",
    "    file_response = client.files.content(output_file_id)\n",
    "    raw_responses = file_response.text.strip().split('\\n')  \n",
    "\n",
    "    for raw_response in raw_responses:  \n",
    "        json_response = json.loads(raw_response)  \n",
    "        result_list.append(json_response)\n",
    "\n",
    "    return result_list"
   ]
  },
  {
   "cell_type": "code",
   "execution_count": 6,
   "id": "82319594-eec6-4544-81f5-0336f2c46487",
   "metadata": {},
   "outputs": [],
   "source": [
    "def json_result_decode(json_result_set: List[Any]) -> List[List[Any]]:\n",
    "\n",
    "    print(\"*\" * 8, \"Creating structured Records\")    \n",
    "    completion_list = []\n",
    "    for completion in json_result_set:\n",
    "        sender_id = completion[\"custom_id\"]\n",
    "        content = completion['response']['body']['choices'][0]['message']['content']\n",
    "        claned_content = re.sub(r',\\s*([}\\]])', r'\\1', content)\n",
    "        json_completion = json.loads(claned_content)\n",
    "        score = json_completion[\"score\"]\n",
    "        created_date = str(datetime.fromtimestamp(completion['response']['body']['created']))\n",
    "        feedback_text = json_completion['reasoning']\n",
    "        label = json_completion[\"satisfaction_label\"]\n",
    "        completion_list.append([sender_id, created_date, score, label, feedback_text])\n",
    "\n",
    "    return completion_list"
   ]
  },
  {
   "cell_type": "code",
   "execution_count": 7,
   "id": "b8ae9017-fa59-4baf-b79d-2db5f0256440",
   "metadata": {},
   "outputs": [],
   "source": [
    "def check_resultant_db_connection(db_name: str):\n",
    "\n",
    "    print(\"*\" * 8, \"Check DB Connection\")\n",
    "    try:\n",
    "        conn = sqlite3.connect(f'{db_name}.db')\n",
    "        cursor = conn.cursor()\n",
    "        cursor.execute(f\"\"\"\n",
    "                SELECT count(name) \n",
    "                FROM sqlite_master \n",
    "                WHERE type='table' AND name='{db_name}';\n",
    "            \"\"\")\n",
    "        \n",
    "        if cursor.fetchone()[0] == 0:\n",
    "            return None\n",
    "        \n",
    "        else:\n",
    "            return cursor\n",
    "\n",
    "    except Exception as e:\n",
    "        return None"
   ]
  },
  {
   "cell_type": "code",
   "execution_count": 8,
   "id": "5a6af2e0-1243-48e7-b979-3f86dd530e58",
   "metadata": {},
   "outputs": [],
   "source": [
    "def create_resultant_db(db_name: str):\n",
    "\n",
    "    print(\"*\" * 8, \"Create DB\")\n",
    "    # Connect to SQLite database (or create it)\n",
    "    conn = sqlite3.connect(f'{db_name}.db')\n",
    "    cursor = conn.cursor()\n",
    "\n",
    "    cursor.execute(f'''\n",
    "        CREATE TABLE IF NOT EXISTS {db_name} (\n",
    "            senderId TEXT,\n",
    "            creation_time TEXT,\n",
    "            score TEXT,\n",
    "            label TEXT,\n",
    "            feedback_text TEXT\n",
    "        )\n",
    "    ''')\n",
    "\n",
    "    return cursor"
   ]
  },
  {
   "cell_type": "code",
   "execution_count": 9,
   "id": "c86fb70f-6f63-40af-9fcf-2ddfecd69380",
   "metadata": {},
   "outputs": [],
   "source": [
    "def append_records(cursor, RESULT_DB, completion_results: List[List[Any]]):\n",
    "\n",
    "    print(\"*\" * 8, \"Appending Retreived Results\")\n",
    "    df_temp = pd.DataFrame(completion_results, columns=[\"senderId\", \"creation_time\", \"score\", \"label\", \"feedback_text\"])\n",
    "    df_temp.to_sql(name=RESULT_DB, con=cursor.connection, if_exists=\"append\", index=False)\n",
    "\n",
    "    cursor.connection.commit()\n",
    "    return True"
   ]
  },
  {
   "cell_type": "code",
   "execution_count": 10,
   "id": "40e6e198-df8e-4e20-81ae-fbef0dba6494",
   "metadata": {},
   "outputs": [],
   "source": [
    "def update_track_status(cursor, db_name: str, batchId: str):\n",
    "\n",
    "    print(\"*\" * 8, \"Update Track Status\")\n",
    "    cursor.execute(f'''\n",
    "        UPDATE {db_name} \n",
    "        SET tracking_reference = \"Completed\",\n",
    "        job_status = \"Completed\"\n",
    "        where batch_id = '{batchId}'\n",
    "    ''')\n",
    "\n",
    "    cursor.connection.commit()\n",
    "    return True"
   ]
  },
  {
   "cell_type": "code",
   "execution_count": 11,
   "id": "f6842ba6-84bd-4a2d-8d91-83d33f379f93",
   "metadata": {},
   "outputs": [
    {
     "name": "stdout",
     "output_type": "stream",
     "text": [
      "******** Check DB Connection\n",
      "******** Get Requests to Track\n",
      "******** Check DB Connection\n"
     ]
    }
   ],
   "source": [
    "TRACK_DB = \"track_status\"\n",
    "RESULT_DB = \"scores\"\n",
    "\n",
    "cursor_tracking = get_tracking_db_connection(TRACK_DB)\n",
    "if not cursor_tracking:\n",
    "    sys.exit(\"No Connection Found\")\n",
    "    \n",
    "df = get_batchRequests(TRACK_DB, cursor_tracking)\n",
    "cursor_scores = check_resultant_db_connection(RESULT_DB)\n",
    "if not cursor_scores:\n",
    "    cursor_scores = create_resultant_db(RESULT_DB)"
   ]
  },
  {
   "cell_type": "code",
   "execution_count": 12,
   "id": "68122dc3-8e0c-4187-b0c2-2bfcf7dd5453",
   "metadata": {},
   "outputs": [
    {
     "name": "stdout",
     "output_type": "stream",
     "text": [
      "******** Retrieve Batch Completions\n",
      "******** Creating structured Records\n",
      "******** Appending Retreived Results\n",
      "******** Update Track Status\n"
     ]
    }
   ],
   "source": [
    "for batch_id, job_status, creation_time, tracking_reference in df.values:\n",
    "\n",
    "    batch_response = client.batches.retrieve(batch_id)\n",
    "    if batch_response.status == \"completed\":\n",
    "        output_file_id = batch_response.output_file_id\n",
    "        \n",
    "        if output_file_id:\n",
    "            result_set = retrieve_batch_completions(output_file_id)\n",
    "            completion_results = json_result_decode(result_set)\n",
    "            status = append_records(cursor_scores, RESULT_DB, completion_results)\n",
    "            \n",
    "            if status:\n",
    "                update_track_status(cursor_tracking, TRACK_DB, batch_id)\n",
    "    \n",
    "    break"
   ]
  },
  {
   "cell_type": "code",
   "execution_count": null,
   "id": "590478e2-bc7b-46cc-81aa-dd9f04877121",
   "metadata": {},
   "outputs": [],
   "source": []
  },
  {
   "cell_type": "code",
   "execution_count": 36,
   "id": "78572207-c7b7-4122-b10a-553dad899034",
   "metadata": {},
   "outputs": [],
   "source": [
    "TRACK_DB = \"track_status\"\n",
    "conn_tracking = sqlite3.connect(f'{TRACK_DB}.db')\n",
    "cursor_tracking = conn_tracking.cursor()"
   ]
  },
  {
   "cell_type": "code",
   "execution_count": 32,
   "id": "5796abdc-3683-4efc-8998-f48f26c5f6be",
   "metadata": {},
   "outputs": [
    {
     "data": {
      "text/plain": [
       "<sqlite3.Cursor at 0x10d91dac0>"
      ]
     },
     "execution_count": 32,
     "metadata": {},
     "output_type": "execute_result"
    }
   ],
   "source": [
    "cursor_tracking.execute(f'''\n",
    "        UPDATE {TRACK_DB}\n",
    "        SET tracking_reference = \"TRACK\",\n",
    "        job_status = \"validating\"\n",
    "    ''')"
   ]
  },
  {
   "cell_type": "code",
   "execution_count": 33,
   "id": "394f7ad3-d55d-4cd5-8917-1b44dd6ea07c",
   "metadata": {},
   "outputs": [],
   "source": [
    "conn_tracking.commit()"
   ]
  },
  {
   "cell_type": "code",
   "execution_count": 37,
   "id": "ef4acfb2-83cb-484d-840b-4204c31dc13f",
   "metadata": {},
   "outputs": [
    {
     "data": {
      "text/html": [
       "<div>\n",
       "<style scoped>\n",
       "    .dataframe tbody tr th:only-of-type {\n",
       "        vertical-align: middle;\n",
       "    }\n",
       "\n",
       "    .dataframe tbody tr th {\n",
       "        vertical-align: top;\n",
       "    }\n",
       "\n",
       "    .dataframe thead th {\n",
       "        text-align: right;\n",
       "    }\n",
       "</style>\n",
       "<table border=\"1\" class=\"dataframe\">\n",
       "  <thead>\n",
       "    <tr style=\"text-align: right;\">\n",
       "      <th></th>\n",
       "      <th>batch_id</th>\n",
       "      <th>job_status</th>\n",
       "      <th>creation_time</th>\n",
       "      <th>tracking_reference</th>\n",
       "    </tr>\n",
       "  </thead>\n",
       "  <tbody>\n",
       "    <tr>\n",
       "      <th>0</th>\n",
       "      <td>batch_00baf5e7-c184-46aa-9e81-b79d43cccc6b</td>\n",
       "      <td>Completed</td>\n",
       "      <td>1751996729</td>\n",
       "      <td>Completed</td>\n",
       "    </tr>\n",
       "    <tr>\n",
       "      <th>1</th>\n",
       "      <td>batch_12bd4672-183e-4ab7-a486-7a71c186951d</td>\n",
       "      <td>Completed</td>\n",
       "      <td>1751996734</td>\n",
       "      <td>Completed</td>\n",
       "    </tr>\n",
       "    <tr>\n",
       "      <th>2</th>\n",
       "      <td>batch_d6c25594-6c5d-4b7a-bd25-e7de10e7ed5e</td>\n",
       "      <td>Completed</td>\n",
       "      <td>1751996740</td>\n",
       "      <td>Completed</td>\n",
       "    </tr>\n",
       "    <tr>\n",
       "      <th>3</th>\n",
       "      <td>batch_bbfe2fbd-6cbc-4f72-aa31-d7be2f351436</td>\n",
       "      <td>Completed</td>\n",
       "      <td>1751996750</td>\n",
       "      <td>Completed</td>\n",
       "    </tr>\n",
       "    <tr>\n",
       "      <th>4</th>\n",
       "      <td>batch_fbf8b159-bac6-4731-b2e1-f790902f2316</td>\n",
       "      <td>validating</td>\n",
       "      <td>1752128766</td>\n",
       "      <td>TRACK</td>\n",
       "    </tr>\n",
       "  </tbody>\n",
       "</table>\n",
       "</div>"
      ],
      "text/plain": [
       "                                     batch_id  job_status creation_time  \\\n",
       "0  batch_00baf5e7-c184-46aa-9e81-b79d43cccc6b   Completed    1751996729   \n",
       "1  batch_12bd4672-183e-4ab7-a486-7a71c186951d   Completed    1751996734   \n",
       "2  batch_d6c25594-6c5d-4b7a-bd25-e7de10e7ed5e   Completed    1751996740   \n",
       "3  batch_bbfe2fbd-6cbc-4f72-aa31-d7be2f351436   Completed    1751996750   \n",
       "4  batch_fbf8b159-bac6-4731-b2e1-f790902f2316  validating    1752128766   \n",
       "\n",
       "  tracking_reference  \n",
       "0          Completed  \n",
       "1          Completed  \n",
       "2          Completed  \n",
       "3          Completed  \n",
       "4              TRACK  "
      ]
     },
     "execution_count": 37,
     "metadata": {},
     "output_type": "execute_result"
    }
   ],
   "source": [
    "pd.read_sql_query(f\"Select * from {TRACK_DB}\", cursor_tracking.connection)"
   ]
  },
  {
   "cell_type": "code",
   "execution_count": 35,
   "id": "a1fd4688-a346-4db5-9e35-ecfeb50c8270",
   "metadata": {},
   "outputs": [],
   "source": [
    "conn_tracking.close()"
   ]
  },
  {
   "cell_type": "code",
   "execution_count": null,
   "id": "9b85a64d-83fb-4d1c-8b81-2c6e4ba6a272",
   "metadata": {},
   "outputs": [],
   "source": []
  },
  {
   "cell_type": "code",
   "execution_count": 29,
   "id": "78b6bb06-3bba-4cb0-88ec-6197136668ad",
   "metadata": {},
   "outputs": [],
   "source": [
    "RESULT_DB = \"scores\"\n",
    "conn_scores = sqlite3.connect(f'{RESULT_DB}.db')\n",
    "cursor_scores = conn_scores.cursor()"
   ]
  },
  {
   "cell_type": "code",
   "execution_count": 30,
   "id": "32c986b7-33ca-49cc-b6e3-7509ec33b9d8",
   "metadata": {},
   "outputs": [
    {
     "data": {
      "text/html": [
       "<div>\n",
       "<style scoped>\n",
       "    .dataframe tbody tr th:only-of-type {\n",
       "        vertical-align: middle;\n",
       "    }\n",
       "\n",
       "    .dataframe tbody tr th {\n",
       "        vertical-align: top;\n",
       "    }\n",
       "\n",
       "    .dataframe thead th {\n",
       "        text-align: right;\n",
       "    }\n",
       "</style>\n",
       "<table border=\"1\" class=\"dataframe\">\n",
       "  <thead>\n",
       "    <tr style=\"text-align: right;\">\n",
       "      <th></th>\n",
       "      <th>senderId</th>\n",
       "      <th>creation_time</th>\n",
       "      <th>score</th>\n",
       "      <th>label</th>\n",
       "      <th>feedback_text</th>\n",
       "    </tr>\n",
       "  </thead>\n",
       "  <tbody>\n",
       "    <tr>\n",
       "      <th>0</th>\n",
       "      <td>Ny7i23GjoezOA_h6NjwIK</td>\n",
       "      <td>2025-07-08 23:59:46</td>\n",
       "      <td>4</td>\n",
       "      <td>Satisfied</td>\n",
       "      <td>Positive:\\n• The bot clearly understood the us...</td>\n",
       "    </tr>\n",
       "    <tr>\n",
       "      <th>1</th>\n",
       "      <td>btLyma2P7Yq2Owe9R5O17</td>\n",
       "      <td>2025-07-08 23:59:46</td>\n",
       "      <td>4</td>\n",
       "      <td>Satisfied</td>\n",
       "      <td>Positive:\\n• The chatbot guided the user throu...</td>\n",
       "    </tr>\n",
       "    <tr>\n",
       "      <th>2</th>\n",
       "      <td>yCCKo0asCCrhjWVvgCGQw</td>\n",
       "      <td>2025-07-09 00:00:01</td>\n",
       "      <td>2</td>\n",
       "      <td>Dissatisfied</td>\n",
       "      <td>Positive:\\n• The bot provided some basic troub...</td>\n",
       "    </tr>\n",
       "    <tr>\n",
       "      <th>3</th>\n",
       "      <td>btLyma2P7Yq2Owe9R5O17</td>\n",
       "      <td>2025-07-08 23:59:16</td>\n",
       "      <td>4</td>\n",
       "      <td>Satisfied</td>\n",
       "      <td>Positive:\\n• The chatbot provided a relevant p...</td>\n",
       "    </tr>\n",
       "    <tr>\n",
       "      <th>4</th>\n",
       "      <td>Ny7i23GjoezOA_h6NjwIK</td>\n",
       "      <td>2025-07-08 23:59:16</td>\n",
       "      <td>4</td>\n",
       "      <td>Satisfied</td>\n",
       "      <td>Positive:\\n• The bot correctly understood the ...</td>\n",
       "    </tr>\n",
       "    <tr>\n",
       "      <th>5</th>\n",
       "      <td>yCCKo0asCCrhjWVvgCGQw</td>\n",
       "      <td>2025-07-08 23:59:16</td>\n",
       "      <td>2</td>\n",
       "      <td>Dissatisfied</td>\n",
       "      <td>Positive:\\n• The bot provided stepwise trouble...</td>\n",
       "    </tr>\n",
       "    <tr>\n",
       "      <th>6</th>\n",
       "      <td>btLyma2P7Yq2Owe9R5O17</td>\n",
       "      <td>2025-07-08 23:59:15</td>\n",
       "      <td>4</td>\n",
       "      <td>Satisfied</td>\n",
       "      <td>Positive:\\n• The bot understood the user's int...</td>\n",
       "    </tr>\n",
       "    <tr>\n",
       "      <th>7</th>\n",
       "      <td>Ny7i23GjoezOA_h6NjwIK</td>\n",
       "      <td>2025-07-08 23:59:15</td>\n",
       "      <td>4</td>\n",
       "      <td>Satisfied</td>\n",
       "      <td>Positive:\\n• The bot quickly recognized the us...</td>\n",
       "    </tr>\n",
       "    <tr>\n",
       "      <th>8</th>\n",
       "      <td>yCCKo0asCCrhjWVvgCGQw</td>\n",
       "      <td>2025-07-08 23:59:15</td>\n",
       "      <td>2</td>\n",
       "      <td>Dissatisfied</td>\n",
       "      <td>Positive:\\n• The bot attempted troubleshooting...</td>\n",
       "    </tr>\n",
       "    <tr>\n",
       "      <th>9</th>\n",
       "      <td>Ny7i23GjoezOA_h6NjwIK</td>\n",
       "      <td>2025-07-08 23:59:46</td>\n",
       "      <td>4</td>\n",
       "      <td>Satisfied</td>\n",
       "      <td>Positive:\\n• The bot clearly understood the us...</td>\n",
       "    </tr>\n",
       "    <tr>\n",
       "      <th>10</th>\n",
       "      <td>btLyma2P7Yq2Owe9R5O17</td>\n",
       "      <td>2025-07-08 23:59:46</td>\n",
       "      <td>4</td>\n",
       "      <td>Satisfied</td>\n",
       "      <td>Positive:\\n• The chatbot guided the user throu...</td>\n",
       "    </tr>\n",
       "    <tr>\n",
       "      <th>11</th>\n",
       "      <td>yCCKo0asCCrhjWVvgCGQw</td>\n",
       "      <td>2025-07-09 00:00:01</td>\n",
       "      <td>2</td>\n",
       "      <td>Dissatisfied</td>\n",
       "      <td>Positive:\\n• The bot provided some basic troub...</td>\n",
       "    </tr>\n",
       "    <tr>\n",
       "      <th>12</th>\n",
       "      <td>btLyma2P7Yq2Owe9R5O17</td>\n",
       "      <td>2025-07-08 23:59:16</td>\n",
       "      <td>4</td>\n",
       "      <td>Satisfied</td>\n",
       "      <td>Positive:\\n• The chatbot provided a relevant p...</td>\n",
       "    </tr>\n",
       "    <tr>\n",
       "      <th>13</th>\n",
       "      <td>Ny7i23GjoezOA_h6NjwIK</td>\n",
       "      <td>2025-07-08 23:59:16</td>\n",
       "      <td>4</td>\n",
       "      <td>Satisfied</td>\n",
       "      <td>Positive:\\n• The bot correctly understood the ...</td>\n",
       "    </tr>\n",
       "    <tr>\n",
       "      <th>14</th>\n",
       "      <td>yCCKo0asCCrhjWVvgCGQw</td>\n",
       "      <td>2025-07-08 23:59:16</td>\n",
       "      <td>2</td>\n",
       "      <td>Dissatisfied</td>\n",
       "      <td>Positive:\\n• The bot provided stepwise trouble...</td>\n",
       "    </tr>\n",
       "    <tr>\n",
       "      <th>15</th>\n",
       "      <td>Ny7i23GjoezOA_h6NjwIK</td>\n",
       "      <td>2025-07-08 23:59:20</td>\n",
       "      <td>4</td>\n",
       "      <td>Satisfied</td>\n",
       "      <td>Positive:\\n• The bot clearly understood the us...</td>\n",
       "    </tr>\n",
       "    <tr>\n",
       "      <th>16</th>\n",
       "      <td>yCCKo0asCCrhjWVvgCGQw</td>\n",
       "      <td>2025-07-08 23:59:20</td>\n",
       "      <td>2</td>\n",
       "      <td>Dissatisfied</td>\n",
       "      <td>Positive:\\n• The bot offered common troublesho...</td>\n",
       "    </tr>\n",
       "    <tr>\n",
       "      <th>17</th>\n",
       "      <td>btLyma2P7Yq2Owe9R5O17</td>\n",
       "      <td>2025-07-08 23:59:22</td>\n",
       "      <td>4</td>\n",
       "      <td>Satisfied</td>\n",
       "      <td>Positive:\\n• The bot understood the user’s int...</td>\n",
       "    </tr>\n",
       "  </tbody>\n",
       "</table>\n",
       "</div>"
      ],
      "text/plain": [
       "                 senderId        creation_time score         label  \\\n",
       "0   Ny7i23GjoezOA_h6NjwIK  2025-07-08 23:59:46     4     Satisfied   \n",
       "1   btLyma2P7Yq2Owe9R5O17  2025-07-08 23:59:46     4     Satisfied   \n",
       "2   yCCKo0asCCrhjWVvgCGQw  2025-07-09 00:00:01     2  Dissatisfied   \n",
       "3   btLyma2P7Yq2Owe9R5O17  2025-07-08 23:59:16     4     Satisfied   \n",
       "4   Ny7i23GjoezOA_h6NjwIK  2025-07-08 23:59:16     4     Satisfied   \n",
       "5   yCCKo0asCCrhjWVvgCGQw  2025-07-08 23:59:16     2  Dissatisfied   \n",
       "6   btLyma2P7Yq2Owe9R5O17  2025-07-08 23:59:15     4     Satisfied   \n",
       "7   Ny7i23GjoezOA_h6NjwIK  2025-07-08 23:59:15     4     Satisfied   \n",
       "8   yCCKo0asCCrhjWVvgCGQw  2025-07-08 23:59:15     2  Dissatisfied   \n",
       "9   Ny7i23GjoezOA_h6NjwIK  2025-07-08 23:59:46     4     Satisfied   \n",
       "10  btLyma2P7Yq2Owe9R5O17  2025-07-08 23:59:46     4     Satisfied   \n",
       "11  yCCKo0asCCrhjWVvgCGQw  2025-07-09 00:00:01     2  Dissatisfied   \n",
       "12  btLyma2P7Yq2Owe9R5O17  2025-07-08 23:59:16     4     Satisfied   \n",
       "13  Ny7i23GjoezOA_h6NjwIK  2025-07-08 23:59:16     4     Satisfied   \n",
       "14  yCCKo0asCCrhjWVvgCGQw  2025-07-08 23:59:16     2  Dissatisfied   \n",
       "15  Ny7i23GjoezOA_h6NjwIK  2025-07-08 23:59:20     4     Satisfied   \n",
       "16  yCCKo0asCCrhjWVvgCGQw  2025-07-08 23:59:20     2  Dissatisfied   \n",
       "17  btLyma2P7Yq2Owe9R5O17  2025-07-08 23:59:22     4     Satisfied   \n",
       "\n",
       "                                        feedback_text  \n",
       "0   Positive:\\n• The bot clearly understood the us...  \n",
       "1   Positive:\\n• The chatbot guided the user throu...  \n",
       "2   Positive:\\n• The bot provided some basic troub...  \n",
       "3   Positive:\\n• The chatbot provided a relevant p...  \n",
       "4   Positive:\\n• The bot correctly understood the ...  \n",
       "5   Positive:\\n• The bot provided stepwise trouble...  \n",
       "6   Positive:\\n• The bot understood the user's int...  \n",
       "7   Positive:\\n• The bot quickly recognized the us...  \n",
       "8   Positive:\\n• The bot attempted troubleshooting...  \n",
       "9   Positive:\\n• The bot clearly understood the us...  \n",
       "10  Positive:\\n• The chatbot guided the user throu...  \n",
       "11  Positive:\\n• The bot provided some basic troub...  \n",
       "12  Positive:\\n• The chatbot provided a relevant p...  \n",
       "13  Positive:\\n• The bot correctly understood the ...  \n",
       "14  Positive:\\n• The bot provided stepwise trouble...  \n",
       "15  Positive:\\n• The bot clearly understood the us...  \n",
       "16  Positive:\\n• The bot offered common troublesho...  \n",
       "17  Positive:\\n• The bot understood the user’s int...  "
      ]
     },
     "execution_count": 30,
     "metadata": {},
     "output_type": "execute_result"
    }
   ],
   "source": [
    "pd.read_sql_query(f\"Select * from {RESULT_DB}\", cursor_scores.connection)"
   ]
  },
  {
   "cell_type": "code",
   "execution_count": 25,
   "id": "437b982c-8f23-4f0c-922e-56abd9f24bc0",
   "metadata": {},
   "outputs": [],
   "source": [
    "cursor_scores.connection.close()"
   ]
  },
  {
   "cell_type": "code",
   "execution_count": null,
   "id": "2d4738ea-2c2a-45d6-8f3b-e55d6837788d",
   "metadata": {},
   "outputs": [],
   "source": []
  },
  {
   "cell_type": "code",
   "execution_count": null,
   "id": "d6791559-bb98-4db9-bcac-cca45afe12ca",
   "metadata": {},
   "outputs": [],
   "source": []
  },
  {
   "cell_type": "code",
   "execution_count": 14,
   "id": "6c1156be-0a3f-4c99-a190-3956283f5906",
   "metadata": {},
   "outputs": [
    {
     "data": {
      "text/html": [
       "<div>\n",
       "<style scoped>\n",
       "    .dataframe tbody tr th:only-of-type {\n",
       "        vertical-align: middle;\n",
       "    }\n",
       "\n",
       "    .dataframe tbody tr th {\n",
       "        vertical-align: top;\n",
       "    }\n",
       "\n",
       "    .dataframe thead th {\n",
       "        text-align: right;\n",
       "    }\n",
       "</style>\n",
       "<table border=\"1\" class=\"dataframe\">\n",
       "  <thead>\n",
       "    <tr style=\"text-align: right;\">\n",
       "      <th></th>\n",
       "      <th>senderId</th>\n",
       "      <th>creation_time</th>\n",
       "      <th>score</th>\n",
       "      <th>label</th>\n",
       "      <th>feedback_text</th>\n",
       "    </tr>\n",
       "  </thead>\n",
       "  <tbody>\n",
       "    <tr>\n",
       "      <th>0</th>\n",
       "      <td>btLyma2P7Yq2Owe9R5O17</td>\n",
       "      <td>2025-07-08 23:59:15</td>\n",
       "      <td>4</td>\n",
       "      <td>Satisfied</td>\n",
       "      <td>Positive:\\n• The bot understood the user's int...</td>\n",
       "    </tr>\n",
       "    <tr>\n",
       "      <th>1</th>\n",
       "      <td>Ny7i23GjoezOA_h6NjwIK</td>\n",
       "      <td>2025-07-08 23:59:15</td>\n",
       "      <td>4</td>\n",
       "      <td>Satisfied</td>\n",
       "      <td>Positive:\\n• The bot quickly recognized the us...</td>\n",
       "    </tr>\n",
       "    <tr>\n",
       "      <th>2</th>\n",
       "      <td>yCCKo0asCCrhjWVvgCGQw</td>\n",
       "      <td>2025-07-08 23:59:15</td>\n",
       "      <td>2</td>\n",
       "      <td>Dissatisfied</td>\n",
       "      <td>Positive:\\n• The bot attempted troubleshooting...</td>\n",
       "    </tr>\n",
       "    <tr>\n",
       "      <th>3</th>\n",
       "      <td>btLyma2P7Yq2Owe9R5O17</td>\n",
       "      <td>2025-07-08 23:59:15</td>\n",
       "      <td>4</td>\n",
       "      <td>Satisfied</td>\n",
       "      <td>Positive:\\n• The bot understood the user's int...</td>\n",
       "    </tr>\n",
       "    <tr>\n",
       "      <th>4</th>\n",
       "      <td>Ny7i23GjoezOA_h6NjwIK</td>\n",
       "      <td>2025-07-08 23:59:15</td>\n",
       "      <td>4</td>\n",
       "      <td>Satisfied</td>\n",
       "      <td>Positive:\\n• The bot quickly recognized the us...</td>\n",
       "    </tr>\n",
       "    <tr>\n",
       "      <th>5</th>\n",
       "      <td>yCCKo0asCCrhjWVvgCGQw</td>\n",
       "      <td>2025-07-08 23:59:15</td>\n",
       "      <td>2</td>\n",
       "      <td>Dissatisfied</td>\n",
       "      <td>Positive:\\n• The bot attempted troubleshooting...</td>\n",
       "    </tr>\n",
       "    <tr>\n",
       "      <th>6</th>\n",
       "      <td>btLyma2P7Yq2Owe9R5O17</td>\n",
       "      <td>2025-07-08 23:59:15</td>\n",
       "      <td>4</td>\n",
       "      <td>Satisfied</td>\n",
       "      <td>Positive:\\n• The bot understood the user's int...</td>\n",
       "    </tr>\n",
       "    <tr>\n",
       "      <th>7</th>\n",
       "      <td>Ny7i23GjoezOA_h6NjwIK</td>\n",
       "      <td>2025-07-08 23:59:15</td>\n",
       "      <td>4</td>\n",
       "      <td>Satisfied</td>\n",
       "      <td>Positive:\\n• The bot quickly recognized the us...</td>\n",
       "    </tr>\n",
       "    <tr>\n",
       "      <th>8</th>\n",
       "      <td>yCCKo0asCCrhjWVvgCGQw</td>\n",
       "      <td>2025-07-08 23:59:15</td>\n",
       "      <td>2</td>\n",
       "      <td>Dissatisfied</td>\n",
       "      <td>Positive:\\n• The bot attempted troubleshooting...</td>\n",
       "    </tr>\n",
       "    <tr>\n",
       "      <th>9</th>\n",
       "      <td>btLyma2P7Yq2Owe9R5O17</td>\n",
       "      <td>2025-07-08 23:59:15</td>\n",
       "      <td>4</td>\n",
       "      <td>Satisfied</td>\n",
       "      <td>Positive:\\n• The bot understood the user's int...</td>\n",
       "    </tr>\n",
       "    <tr>\n",
       "      <th>10</th>\n",
       "      <td>Ny7i23GjoezOA_h6NjwIK</td>\n",
       "      <td>2025-07-08 23:59:15</td>\n",
       "      <td>4</td>\n",
       "      <td>Satisfied</td>\n",
       "      <td>Positive:\\n• The bot quickly recognized the us...</td>\n",
       "    </tr>\n",
       "    <tr>\n",
       "      <th>11</th>\n",
       "      <td>yCCKo0asCCrhjWVvgCGQw</td>\n",
       "      <td>2025-07-08 23:59:15</td>\n",
       "      <td>2</td>\n",
       "      <td>Dissatisfied</td>\n",
       "      <td>Positive:\\n• The bot attempted troubleshooting...</td>\n",
       "    </tr>\n",
       "    <tr>\n",
       "      <th>12</th>\n",
       "      <td>btLyma2P7Yq2Owe9R5O17</td>\n",
       "      <td>2025-07-08 23:59:15</td>\n",
       "      <td>4</td>\n",
       "      <td>Satisfied</td>\n",
       "      <td>Positive:\\n• The bot understood the user's int...</td>\n",
       "    </tr>\n",
       "    <tr>\n",
       "      <th>13</th>\n",
       "      <td>Ny7i23GjoezOA_h6NjwIK</td>\n",
       "      <td>2025-07-08 23:59:15</td>\n",
       "      <td>4</td>\n",
       "      <td>Satisfied</td>\n",
       "      <td>Positive:\\n• The bot quickly recognized the us...</td>\n",
       "    </tr>\n",
       "    <tr>\n",
       "      <th>14</th>\n",
       "      <td>yCCKo0asCCrhjWVvgCGQw</td>\n",
       "      <td>2025-07-08 23:59:15</td>\n",
       "      <td>2</td>\n",
       "      <td>Dissatisfied</td>\n",
       "      <td>Positive:\\n• The bot attempted troubleshooting...</td>\n",
       "    </tr>\n",
       "    <tr>\n",
       "      <th>15</th>\n",
       "      <td>btLyma2P7Yq2Owe9R5O17</td>\n",
       "      <td>2025-07-08 23:59:15</td>\n",
       "      <td>4</td>\n",
       "      <td>Satisfied</td>\n",
       "      <td>Positive:\\n• The bot understood the user's int...</td>\n",
       "    </tr>\n",
       "    <tr>\n",
       "      <th>16</th>\n",
       "      <td>Ny7i23GjoezOA_h6NjwIK</td>\n",
       "      <td>2025-07-08 23:59:15</td>\n",
       "      <td>4</td>\n",
       "      <td>Satisfied</td>\n",
       "      <td>Positive:\\n• The bot quickly recognized the us...</td>\n",
       "    </tr>\n",
       "    <tr>\n",
       "      <th>17</th>\n",
       "      <td>yCCKo0asCCrhjWVvgCGQw</td>\n",
       "      <td>2025-07-08 23:59:15</td>\n",
       "      <td>2</td>\n",
       "      <td>Dissatisfied</td>\n",
       "      <td>Positive:\\n• The bot attempted troubleshooting...</td>\n",
       "    </tr>\n",
       "    <tr>\n",
       "      <th>18</th>\n",
       "      <td>Ny7i23GjoezOA_h6NjwIK</td>\n",
       "      <td>2025-07-08 23:59:46</td>\n",
       "      <td>4</td>\n",
       "      <td>Satisfied</td>\n",
       "      <td>Positive:\\n• The bot clearly understood the us...</td>\n",
       "    </tr>\n",
       "    <tr>\n",
       "      <th>19</th>\n",
       "      <td>btLyma2P7Yq2Owe9R5O17</td>\n",
       "      <td>2025-07-08 23:59:46</td>\n",
       "      <td>4</td>\n",
       "      <td>Satisfied</td>\n",
       "      <td>Positive:\\n• The chatbot guided the user throu...</td>\n",
       "    </tr>\n",
       "    <tr>\n",
       "      <th>20</th>\n",
       "      <td>yCCKo0asCCrhjWVvgCGQw</td>\n",
       "      <td>2025-07-09 00:00:01</td>\n",
       "      <td>2</td>\n",
       "      <td>Dissatisfied</td>\n",
       "      <td>Positive:\\n• The bot provided some basic troub...</td>\n",
       "    </tr>\n",
       "    <tr>\n",
       "      <th>21</th>\n",
       "      <td>btLyma2P7Yq2Owe9R5O17</td>\n",
       "      <td>2025-07-08 23:59:16</td>\n",
       "      <td>4</td>\n",
       "      <td>Satisfied</td>\n",
       "      <td>Positive:\\n• The chatbot provided a relevant p...</td>\n",
       "    </tr>\n",
       "    <tr>\n",
       "      <th>22</th>\n",
       "      <td>Ny7i23GjoezOA_h6NjwIK</td>\n",
       "      <td>2025-07-08 23:59:16</td>\n",
       "      <td>4</td>\n",
       "      <td>Satisfied</td>\n",
       "      <td>Positive:\\n• The bot correctly understood the ...</td>\n",
       "    </tr>\n",
       "    <tr>\n",
       "      <th>23</th>\n",
       "      <td>yCCKo0asCCrhjWVvgCGQw</td>\n",
       "      <td>2025-07-08 23:59:16</td>\n",
       "      <td>2</td>\n",
       "      <td>Dissatisfied</td>\n",
       "      <td>Positive:\\n• The bot provided stepwise trouble...</td>\n",
       "    </tr>\n",
       "  </tbody>\n",
       "</table>\n",
       "</div>"
      ],
      "text/plain": [
       "                 senderId        creation_time score         label  \\\n",
       "0   btLyma2P7Yq2Owe9R5O17  2025-07-08 23:59:15     4     Satisfied   \n",
       "1   Ny7i23GjoezOA_h6NjwIK  2025-07-08 23:59:15     4     Satisfied   \n",
       "2   yCCKo0asCCrhjWVvgCGQw  2025-07-08 23:59:15     2  Dissatisfied   \n",
       "3   btLyma2P7Yq2Owe9R5O17  2025-07-08 23:59:15     4     Satisfied   \n",
       "4   Ny7i23GjoezOA_h6NjwIK  2025-07-08 23:59:15     4     Satisfied   \n",
       "5   yCCKo0asCCrhjWVvgCGQw  2025-07-08 23:59:15     2  Dissatisfied   \n",
       "6   btLyma2P7Yq2Owe9R5O17  2025-07-08 23:59:15     4     Satisfied   \n",
       "7   Ny7i23GjoezOA_h6NjwIK  2025-07-08 23:59:15     4     Satisfied   \n",
       "8   yCCKo0asCCrhjWVvgCGQw  2025-07-08 23:59:15     2  Dissatisfied   \n",
       "9   btLyma2P7Yq2Owe9R5O17  2025-07-08 23:59:15     4     Satisfied   \n",
       "10  Ny7i23GjoezOA_h6NjwIK  2025-07-08 23:59:15     4     Satisfied   \n",
       "11  yCCKo0asCCrhjWVvgCGQw  2025-07-08 23:59:15     2  Dissatisfied   \n",
       "12  btLyma2P7Yq2Owe9R5O17  2025-07-08 23:59:15     4     Satisfied   \n",
       "13  Ny7i23GjoezOA_h6NjwIK  2025-07-08 23:59:15     4     Satisfied   \n",
       "14  yCCKo0asCCrhjWVvgCGQw  2025-07-08 23:59:15     2  Dissatisfied   \n",
       "15  btLyma2P7Yq2Owe9R5O17  2025-07-08 23:59:15     4     Satisfied   \n",
       "16  Ny7i23GjoezOA_h6NjwIK  2025-07-08 23:59:15     4     Satisfied   \n",
       "17  yCCKo0asCCrhjWVvgCGQw  2025-07-08 23:59:15     2  Dissatisfied   \n",
       "18  Ny7i23GjoezOA_h6NjwIK  2025-07-08 23:59:46     4     Satisfied   \n",
       "19  btLyma2P7Yq2Owe9R5O17  2025-07-08 23:59:46     4     Satisfied   \n",
       "20  yCCKo0asCCrhjWVvgCGQw  2025-07-09 00:00:01     2  Dissatisfied   \n",
       "21  btLyma2P7Yq2Owe9R5O17  2025-07-08 23:59:16     4     Satisfied   \n",
       "22  Ny7i23GjoezOA_h6NjwIK  2025-07-08 23:59:16     4     Satisfied   \n",
       "23  yCCKo0asCCrhjWVvgCGQw  2025-07-08 23:59:16     2  Dissatisfied   \n",
       "\n",
       "                                        feedback_text  \n",
       "0   Positive:\\n• The bot understood the user's int...  \n",
       "1   Positive:\\n• The bot quickly recognized the us...  \n",
       "2   Positive:\\n• The bot attempted troubleshooting...  \n",
       "3   Positive:\\n• The bot understood the user's int...  \n",
       "4   Positive:\\n• The bot quickly recognized the us...  \n",
       "5   Positive:\\n• The bot attempted troubleshooting...  \n",
       "6   Positive:\\n• The bot understood the user's int...  \n",
       "7   Positive:\\n• The bot quickly recognized the us...  \n",
       "8   Positive:\\n• The bot attempted troubleshooting...  \n",
       "9   Positive:\\n• The bot understood the user's int...  \n",
       "10  Positive:\\n• The bot quickly recognized the us...  \n",
       "11  Positive:\\n• The bot attempted troubleshooting...  \n",
       "12  Positive:\\n• The bot understood the user's int...  \n",
       "13  Positive:\\n• The bot quickly recognized the us...  \n",
       "14  Positive:\\n• The bot attempted troubleshooting...  \n",
       "15  Positive:\\n• The bot understood the user's int...  \n",
       "16  Positive:\\n• The bot quickly recognized the us...  \n",
       "17  Positive:\\n• The bot attempted troubleshooting...  \n",
       "18  Positive:\\n• The bot clearly understood the us...  \n",
       "19  Positive:\\n• The chatbot guided the user throu...  \n",
       "20  Positive:\\n• The bot provided some basic troub...  \n",
       "21  Positive:\\n• The chatbot provided a relevant p...  \n",
       "22  Positive:\\n• The bot correctly understood the ...  \n",
       "23  Positive:\\n• The bot provided stepwise trouble...  "
      ]
     },
     "execution_count": 14,
     "metadata": {},
     "output_type": "execute_result"
    }
   ],
   "source": [
    "pd.read_sql_query(f\"Select * from {RESULT_DB}\", cursor_scores.connection)"
   ]
  },
  {
   "cell_type": "code",
   "execution_count": null,
   "id": "b5313a1c-4401-471b-ac6e-8ae59e9c5114",
   "metadata": {},
   "outputs": [],
   "source": []
  },
  {
   "cell_type": "code",
   "execution_count": 263,
   "id": "dd124760-df49-462d-a581-653d35f80673",
   "metadata": {},
   "outputs": [
    {
     "data": {
      "text/plain": [
       "[['btLyma2P7Yq2Owe9R5O17', '2025-07-08 23:59:15', 4, 'Satisfied', \"Positive:\\n• The bot understood the user's intent quickly and routed the conversation effectively using button selections, offering a smooth experience.\\n• The bot provided clear instructions and helpful links to resolve the SMIME certificate issue, including a separate resource for a special case (VS-NfD Service cancellation).\\n• There were no unnecessary repetitions or confusion in the conversation flow, and next steps were logically presented.\\n• Empathetic check-in at the end to confirm whether the issue was resolved shows intent to follow through.\\nNegative:\\n• The conversation could have benefited from a slightly warmer or more personalized touch from the bot (the tone was more informational than empathetic).\\n• There was no explicit confirmation that the user's problem was solved, as the bot's last prompt expects a reply from the user.\\n\"], ['Ny7i23GjoezOA_h6NjwIK', '2025-07-08 23:59:15', 4, 'Satisfied', \"Positive:\\n• The bot quickly recognized the user's intent to request a certificate related to MyCard and responded with targeted, context-specific information.\\n• It provided relevant hyperlinks to manuals and self-service portals for further action and guidance.\\n• The instructions were clear and offered step-by-step help as well as additional information for specific user groups.\\n• The bot addressed likely causes for the user's issue (failure after MyCard update) and explained troubleshooting and resolution (certificate clean-up), with an additional manual link for self-service.\\n\\nNegative:\\n• The flow involved multiple messages in a row from the bot, with slightly redundant or similar information, which could be overwhelming or seem repetitive to some users.\\n• While the conversation has not yet fully confirmed resolution (waiting for user's feedback after offering a solution), it at least provided the necessary resources and guidance to likely resolve the issue.\\n\"], ['yCCKo0asCCrhjWVvgCGQw', '2025-07-08 23:59:15', 2, 'Dissatisfied', 'Positive:\\n• The bot attempted troubleshooting by instructing the user to reboot, check network, and test both LAN/WLAN.\\n• Provided escalation option by telling the user to open a ticket if the issue persists and even offered browser troubleshooting advice for ticket portal access.\\n\\nNegative:\\n• The bot sent multiple prompts one after another, making the conversation feel cluttered and slightly confusing (e.g., asking about prerequisites, waiting time, and problem status in quick succession).\\n• The bot appeared to repeat or rephrase prompts related to prerequisites and waiting time, which can frustrate users.\\n• There was no clear confirmation or check that the proposed steps had actually resolved the user’s issue before ending with a generic success and feedback request message.\\n• The closing messages were contradictory: one asked for feedback, the next celebrated a resolution even though the problem was escalated to a ticket (no solution achieved), and then tried to re-engage for additional help. This may appear insensitive or disconnected from user experience.\\n• No clear empathetic acknowledgment that the user did not get their problem resolved through self-service; instead, it jumped to feedback and a premature closing.']]"
      ]
     },
     "execution_count": 263,
     "metadata": {},
     "output_type": "execute_result"
    }
   ],
   "source": [
    "completion_results"
   ]
  },
  {
   "cell_type": "code",
   "execution_count": 259,
   "id": "67282655-1638-4d7c-a1aa-9626bd22e280",
   "metadata": {},
   "outputs": [],
   "source": [
    "completion_results = [[]]"
   ]
  },
  {
   "cell_type": "code",
   "execution_count": 261,
   "id": "7c95f61d-da3e-4808-a30f-e765b7020f9e",
   "metadata": {},
   "outputs": [
    {
     "data": {
      "text/plain": [
       "1"
      ]
     },
     "execution_count": 261,
     "metadata": {},
     "output_type": "execute_result"
    }
   ],
   "source": [
    "len(completion_results)"
   ]
  },
  {
   "cell_type": "code",
   "execution_count": 260,
   "id": "2afa34a7-4119-47e7-9cad-24b5e710d243",
   "metadata": {},
   "outputs": [
    {
     "name": "stdout",
     "output_type": "stream",
     "text": [
      "hi\n"
     ]
    }
   ],
   "source": [
    "if completion_results:\n",
    "    print(\"hi\")"
   ]
  },
  {
   "cell_type": "code",
   "execution_count": 224,
   "id": "72e6cf69-74de-4aac-bb32-90f376baf63f",
   "metadata": {},
   "outputs": [],
   "source": [
    "sample_result = json.loads(result_set[0]['response']['body']['choices'][0]['message']['content'])#.keys()"
   ]
  },
  {
   "cell_type": "code",
   "execution_count": 251,
   "id": "0a16359e-95d0-4f70-bb11-573d51328714",
   "metadata": {},
   "outputs": [
    {
     "data": {
      "text/plain": [
       "{'score': 4, 'satisfaction_label': 'Satisfied', 'reasoning': \"Positive:\\n• The bot understood the user's intent quickly and routed the conversation effectively using button selections, offering a smooth experience.\\n• The bot provided clear instructions and helpful links to resolve the SMIME certificate issue, including a separate resource for a special case (VS-NfD Service cancellation).\\n• There were no unnecessary repetitions or confusion in the conversation flow, and next steps were logically presented.\\n• Empathetic check-in at the end to confirm whether the issue was resolved shows intent to follow through.\\nNegative:\\n• The conversation could have benefited from a slightly warmer or more personalized touch from the bot (the tone was more informational than empathetic).\\n• There was no explicit confirmation that the user's problem was solved, as the bot's last prompt expects a reply from the user.\\n\"}"
      ]
     },
     "execution_count": 251,
     "metadata": {},
     "output_type": "execute_result"
    }
   ],
   "source": [
    "sample_result"
   ]
  },
  {
   "cell_type": "code",
   "execution_count": 245,
   "id": "fed0e6e7-8d49-4c8d-b305-9052e1387586",
   "metadata": {},
   "outputs": [],
   "source": [
    "from datetime import datetime"
   ]
  },
  {
   "cell_type": "code",
   "execution_count": 248,
   "id": "879272f9-4c45-4896-b3d9-44d728e5ef24",
   "metadata": {},
   "outputs": [
    {
     "data": {
      "text/plain": [
       "'2025-07-08'"
      ]
     },
     "execution_count": 248,
     "metadata": {},
     "output_type": "execute_result"
    }
   ],
   "source": [
    "str(datetime.fromtimestamp(completion['response']['body']['created']).date())"
   ]
  },
  {
   "cell_type": "code",
   "execution_count": 234,
   "id": "8ce7a46a-7355-4a3d-b505-28e833e699b8",
   "metadata": {},
   "outputs": [
    {
     "data": {
      "text/plain": [
       "dict_keys(['body', 'request_id', 'status_code'])"
      ]
     },
     "execution_count": 234,
     "metadata": {},
     "output_type": "execute_result"
    }
   ],
   "source": [
    "result_set[0]['response'].keys()"
   ]
  },
  {
   "cell_type": "code",
   "execution_count": 204,
   "id": "b0b6c6a3-c277-428c-80d7-41cebd216a54",
   "metadata": {},
   "outputs": [
    {
     "data": {
      "text/html": [
       "<div>\n",
       "<style scoped>\n",
       "    .dataframe tbody tr th:only-of-type {\n",
       "        vertical-align: middle;\n",
       "    }\n",
       "\n",
       "    .dataframe tbody tr th {\n",
       "        vertical-align: top;\n",
       "    }\n",
       "\n",
       "    .dataframe thead th {\n",
       "        text-align: right;\n",
       "    }\n",
       "</style>\n",
       "<table border=\"1\" class=\"dataframe\">\n",
       "  <thead>\n",
       "    <tr style=\"text-align: right;\">\n",
       "      <th></th>\n",
       "      <th>batch_id</th>\n",
       "      <th>job_status</th>\n",
       "      <th>creation_time</th>\n",
       "      <th>tracking_reference</th>\n",
       "    </tr>\n",
       "  </thead>\n",
       "  <tbody>\n",
       "    <tr>\n",
       "      <th>0</th>\n",
       "      <td>batch_00baf5e7-c184-46aa-9e81-b79d43cccc6b</td>\n",
       "      <td>validating</td>\n",
       "      <td>1751996729</td>\n",
       "      <td>TRACK</td>\n",
       "    </tr>\n",
       "    <tr>\n",
       "      <th>1</th>\n",
       "      <td>batch_12bd4672-183e-4ab7-a486-7a71c186951d</td>\n",
       "      <td>validating</td>\n",
       "      <td>1751996734</td>\n",
       "      <td>TRACK</td>\n",
       "    </tr>\n",
       "    <tr>\n",
       "      <th>2</th>\n",
       "      <td>batch_d6c25594-6c5d-4b7a-bd25-e7de10e7ed5e</td>\n",
       "      <td>validating</td>\n",
       "      <td>1751996740</td>\n",
       "      <td>TRACK</td>\n",
       "    </tr>\n",
       "    <tr>\n",
       "      <th>3</th>\n",
       "      <td>batch_bbfe2fbd-6cbc-4f72-aa31-d7be2f351436</td>\n",
       "      <td>validating</td>\n",
       "      <td>1751996750</td>\n",
       "      <td>TRACK</td>\n",
       "    </tr>\n",
       "  </tbody>\n",
       "</table>\n",
       "</div>"
      ],
      "text/plain": [
       "                                     batch_id  job_status creation_time  \\\n",
       "0  batch_00baf5e7-c184-46aa-9e81-b79d43cccc6b  validating    1751996729   \n",
       "1  batch_12bd4672-183e-4ab7-a486-7a71c186951d  validating    1751996734   \n",
       "2  batch_d6c25594-6c5d-4b7a-bd25-e7de10e7ed5e  validating    1751996740   \n",
       "3  batch_bbfe2fbd-6cbc-4f72-aa31-d7be2f351436  validating    1751996750   \n",
       "\n",
       "  tracking_reference  \n",
       "0              TRACK  \n",
       "1              TRACK  \n",
       "2              TRACK  \n",
       "3              TRACK  "
      ]
     },
     "execution_count": 204,
     "metadata": {},
     "output_type": "execute_result"
    }
   ],
   "source": [
    "df"
   ]
  },
  {
   "cell_type": "code",
   "execution_count": null,
   "id": "6020bd2c-825b-4ac2-957d-d2985aec29aa",
   "metadata": {},
   "outputs": [],
   "source": []
  },
  {
   "cell_type": "code",
   "execution_count": null,
   "id": "37182403-763f-46e1-a67c-160e8b8f2258",
   "metadata": {},
   "outputs": [],
   "source": []
  },
  {
   "cell_type": "code",
   "execution_count": 165,
   "id": "6fa52a7a-d879-48b5-83a6-2664a1ba4677",
   "metadata": {},
   "outputs": [
    {
     "name": "stdout",
     "output_type": "stream",
     "text": [
      "batch_31022594-dad3-4517-a33c-b4042f8a4463 validating 1751823184 Track\n"
     ]
    }
   ],
   "source": [
    "for batchid, job_status, creationTime, tracking_status in request_file.values:\n",
    "    if tracking_status == \"Track\":\n",
    "        batch_response = client.batches.retrieve(batchid)\n",
    "        if batch_response.status == \"completed\":\n",
    "            output_file_id = batch_response.output_file_id\n",
    "            if output_file_id:\n",
    "                result_set = retrieve_batch_copletions(output_file_id)\n"
   ]
  },
  {
   "cell_type": "code",
   "execution_count": 169,
   "id": "43c3a452-8497-4c7e-b817-d2f6ad8de3fc",
   "metadata": {},
   "outputs": [
    {
     "data": {
      "text/plain": [
       "dict_keys(['custom_id', 'response', 'error'])"
      ]
     },
     "execution_count": 169,
     "metadata": {},
     "output_type": "execute_result"
    }
   ],
   "source": [
    "json_response.keys()"
   ]
  },
  {
   "cell_type": "code",
   "execution_count": 170,
   "id": "b2fc9bfd-b2d4-4d20-8583-6af6fdea36fb",
   "metadata": {},
   "outputs": [
    {
     "data": {
      "text/plain": [
       "['{\"custom_id\": \"btLyma2P7Yq2Owe9R5O17\", \"response\": {\"body\": {\"choices\": [{\"content_filter_results\": {\"hate\": {\"filtered\": false, \"severity\": \"safe\"}, \"protected_material_code\": {\"filtered\": false, \"detected\": false}, \"protected_material_text\": {\"filtered\": false, \"detected\": false}, \"self_harm\": {\"filtered\": false, \"severity\": \"safe\"}, \"sexual\": {\"filtered\": false, \"severity\": \"safe\"}, \"violence\": {\"filtered\": false, \"severity\": \"safe\"}}, \"finish_reason\": \"stop\", \"index\": 0, \"logprobs\": null, \"message\": {\"annotations\": [], \"content\": \"{\\\\n  \\\\\"score\\\\\": 4,\\\\n  \\\\\"reasoning\\\\\": \\\\\"Positive:\\\\\\\\n• The bot correctly identified the user\\'s need (Zertifikat auf dem Handy) and routed them through clear button-based choices related to SMIME-Zertifikate.\\\\\\\\n• Provided specific, relevant knowledge articles with direct links on how to request/retrieve the SMIME certificate.\\\\\\\\n• Bot checked for successful resolution at the end by asking if the user can now encrypt/decrypt emails.\\\\\\\\n• Clear next steps and context-appropriate troubleshooting/manual resources were provided.\\\\\\\\n\\\\\\\\nNegative:\\\\\\\\n• The conversation was somewhat generic in tone – could have shown more empathy or tailored messaging.\\\\\\\\n• The bot\\'s initial response bundled in general Intune-Migration info, which could be distracting if not relevant to the user.\\\\\\\\n• Final satisfaction confirmation is present but relies on the user to actively respond rather than proactively closing the loop based on more user engagement.\\\\\\\\n\\\\\",\\\\n  \\\\\"satisfaction_label\\\\\": \\\\\"Satisfied\\\\\"\\\\n}\", \"refusal\": null, \"role\": \"assistant\"}}], \"created\": 1751823526, \"id\": \"chatcmpl-BqNc6MAkjRhSEqlyYiysV8lLdBCkK\", \"model\": \"gpt-4.1-2025-04-14\", \"object\": \"chat.completion\", \"prompt_filter_results\": [{\"prompt_index\": 0, \"content_filter_results\": {\"hate\": {\"filtered\": false, \"severity\": \"safe\"}, \"jailbreak\": {\"filtered\": false, \"detected\": false}, \"self_harm\": {\"filtered\": false, \"severity\": \"safe\"}, \"sexual\": {\"filtered\": false, \"severity\": \"safe\"}, \"violence\": {\"filtered\": false, \"severity\": \"safe\"}}}], \"system_fingerprint\": \"fp_07e970ab25\", \"usage\": {\"completion_tokens\": 199, \"completion_tokens_details\": {\"accepted_prediction_tokens\": 0, \"audio_tokens\": 0, \"reasoning_tokens\": 0, \"rejected_prediction_tokens\": 0}, \"prompt_tokens\": 1695, \"prompt_tokens_details\": {\"audio_tokens\": 0, \"cached_tokens\": 0}, \"total_tokens\": 1894}}, \"request_id\": \"1fcaa1ec-d23d-4d9d-9505-3d268e154fff\", \"status_code\": 200}, \"error\": null}', '{\"custom_id\": \"Ny7i23GjoezOA_h6NjwIK\", \"response\": {\"body\": {\"choices\": [{\"content_filter_results\": {\"hate\": {\"filtered\": false, \"severity\": \"safe\"}, \"protected_material_code\": {\"filtered\": false, \"detected\": false}, \"protected_material_text\": {\"filtered\": false, \"detected\": false}, \"self_harm\": {\"filtered\": false, \"severity\": \"safe\"}, \"sexual\": {\"filtered\": false, \"severity\": \"safe\"}, \"violence\": {\"filtered\": false, \"severity\": \"safe\"}}, \"finish_reason\": \"stop\", \"index\": 0, \"logprobs\": null, \"message\": {\"annotations\": [], \"content\": \"{\\\\n  \\\\\"score\\\\\": 4,\\\\n  \\\\\"reasoning\\\\\": \\\\\"Positive:\\\\\\\\n• The bot quickly understood the user\\'s intent to request a certificate related to MyCard issues and navigated them towards self-service options with clear, relevant links.\\\\\\\\n• Provided detailed explanations about recent changes (new infrastructure, need to use new portal), set user expectations about retries, and gave step-by-step guidance.\\\\\\\\n• Offered specific troubleshooting steps (certificate clean-up) with a direct manual and safety reminder.\\\\\\\\n• The bot checked if the proposed solution helped, seeking explicit confirmation of resolution.\\\\\\\\nNegative:\\\\\\\\n• The initial bot message had a long, multi-topic focus which might have slightly overloaded the user at the start.\\\\\\\\n• There were several links and information chunks, which could be a bit overwhelming and slightly less smooth than ideal.\\\\\\\\n• There was no explicit offer to escalate to a human if the self-help doesn\\'t work, only relying on user feedback after trying the document.\\\\\\\\n\\\\\",\\\\n  \\\\\"satisfaction_label\\\\\": \\\\\"Satisfied\\\\\"\\\\n}\", \"refusal\": null, \"role\": \"assistant\"}}], \"created\": 1751823526, \"id\": \"chatcmpl-BqNc60jiEKZOw0OeFVM6VXJwE52jc\", \"model\": \"gpt-4.1-2025-04-14\", \"object\": \"chat.completion\", \"prompt_filter_results\": [{\"prompt_index\": 0, \"content_filter_results\": {\"hate\": {\"filtered\": false, \"severity\": \"safe\"}, \"jailbreak\": {\"filtered\": false, \"detected\": false}, \"self_harm\": {\"filtered\": false, \"severity\": \"safe\"}, \"sexual\": {\"filtered\": false, \"severity\": \"safe\"}, \"violence\": {\"filtered\": false, \"severity\": \"safe\"}}}], \"system_fingerprint\": \"fp_07e970ab25\", \"usage\": {\"completion_tokens\": 207, \"completion_tokens_details\": {\"accepted_prediction_tokens\": 0, \"audio_tokens\": 0, \"reasoning_tokens\": 0, \"rejected_prediction_tokens\": 0}, \"prompt_tokens\": 1659, \"prompt_tokens_details\": {\"audio_tokens\": 0, \"cached_tokens\": 0}, \"total_tokens\": 1866}}, \"request_id\": \"3a6155cf-de42-44c4-92e6-b997ed2f2f58\", \"status_code\": 200}, \"error\": null}', '{\"custom_id\": \"yCCKo0asCCrhjWVvgCGQw\", \"response\": {\"body\": {\"choices\": [{\"content_filter_results\": {\"hate\": {\"filtered\": false, \"severity\": \"safe\"}, \"protected_material_code\": {\"filtered\": false, \"detected\": false}, \"protected_material_text\": {\"filtered\": false, \"detected\": false}, \"self_harm\": {\"filtered\": false, \"severity\": \"safe\"}, \"sexual\": {\"filtered\": false, \"severity\": \"safe\"}, \"violence\": {\"filtered\": false, \"severity\": \"safe\"}}, \"finish_reason\": \"stop\", \"index\": 0, \"logprobs\": null, \"message\": {\"annotations\": [], \"content\": \"{\\\\n  \\\\\"score\\\\\": 3,\\\\n  \\\\\"satisfaction_label\\\\\": \\\\\"Neutral\\\\\",\\\\n  \\\\\"reasoning\\\\\": \\\\\"Positive:\\\\\\\\n• The bot guided the user through standard troubleshooting effectively and offered step-by-step clarifications.\\\\\\\\n• Clear escalation to human support was provided via ticket creation instructions and hyperlink.\\\\\\\\n• The tone was polite and attempted to ensure prerequisites were checked.\\\\\\\\n\\\\\\\\nNegative:\\\\\\\\n• The resolution process was not fully self-service – the user was required to open a new ticket instead of the bot automating the escalation or directly creating a ticket, adding user effort.\\\\\\\\n• The bot gave repetitive, somewhat verbose explanations, and the solution flow ended rather abruptly with a feedback prompt before confirming clear closure for the user.\\\\\\\\n• The bot implied closure (“Ich freue mich, dass ich dir helfen konnte”) before the user\\'s issue was actually resolved, which could be slightly presumptive or dissatisfying if the user still faces problems.\\\\\\\\n• No explicit confirmation or summary that guides the user to expect next steps from support.\\\\\\\\n\\\\\"\\\\n}\", \"refusal\": null, \"role\": \"assistant\"}}], \"created\": 1751823526, \"id\": \"chatcmpl-BqNc6UG50BvaN4piUZHgoqU5ppIhf\", \"model\": \"gpt-4.1-2025-04-14\", \"object\": \"chat.completion\", \"prompt_filter_results\": [{\"prompt_index\": 0, \"content_filter_results\": {\"hate\": {\"filtered\": false, \"severity\": \"safe\"}, \"jailbreak\": {\"filtered\": false, \"detected\": false}, \"self_harm\": {\"filtered\": false, \"severity\": \"safe\"}, \"sexual\": {\"filtered\": false, \"severity\": \"safe\"}, \"violence\": {\"filtered\": false, \"severity\": \"safe\"}}}], \"system_fingerprint\": \"fp_07e970ab25\", \"usage\": {\"completion_tokens\": 210, \"completion_tokens_details\": {\"accepted_prediction_tokens\": 0, \"audio_tokens\": 0, \"reasoning_tokens\": 0, \"rejected_prediction_tokens\": 0}, \"prompt_tokens\": 1730, \"prompt_tokens_details\": {\"audio_tokens\": 0, \"cached_tokens\": 0}, \"total_tokens\": 1940}}, \"request_id\": \"d992ef77-e281-4904-af86-15a4c5982ef4\", \"status_code\": 200}, \"error\": null}']"
      ]
     },
     "execution_count": 170,
     "metadata": {},
     "output_type": "execute_result"
    }
   ],
   "source": [
    "raw_responses"
   ]
  },
  {
   "cell_type": "code",
   "execution_count": 172,
   "id": "e1298168-3671-45dd-8003-f6630b8ce589",
   "metadata": {},
   "outputs": [],
   "source": [
    "import sqlite3"
   ]
  },
  {
   "cell_type": "code",
   "execution_count": 174,
   "id": "633924e8-971a-44e6-b21b-96b7a56cd491",
   "metadata": {},
   "outputs": [],
   "source": [
    "conn = sqlite3.connect('track_status.db')"
   ]
  },
  {
   "cell_type": "code",
   "execution_count": 177,
   "id": "c0efa417-30d2-4c89-975d-fc9313416d4b",
   "metadata": {},
   "outputs": [],
   "source": [
    "cursor = conn.cursor()"
   ]
  },
  {
   "cell_type": "code",
   "execution_count": 187,
   "id": "f729f61c-afd6-46a8-9f6e-0e203acc104c",
   "metadata": {},
   "outputs": [
    {
     "data": {
      "text/plain": [
       "<sqlite3.Cursor object at 0x11c680540>"
      ]
     },
     "execution_count": 187,
     "metadata": {},
     "output_type": "execute_result"
    }
   ],
   "source": [
    "cursor.execute(f\"\"\" \n",
    "SELECT count(name) FROM sqlite_master WHERE type='table' AND name='track_status';\n",
    "\"\"\")"
   ]
  },
  {
   "cell_type": "code",
   "execution_count": 188,
   "id": "2514e1e4-08ed-4fd8-ba4b-bf48e0fca1a4",
   "metadata": {},
   "outputs": [
    {
     "data": {
      "text/plain": [
       "(1,)"
      ]
     },
     "execution_count": 188,
     "metadata": {},
     "output_type": "execute_result"
    }
   ],
   "source": [
    "cursor.fetchone()"
   ]
  },
  {
   "cell_type": "code",
   "execution_count": 189,
   "id": "d7386851-fcdf-4f9b-acf7-95f6da776cdf",
   "metadata": {},
   "outputs": [
    {
     "data": {
      "text/plain": [
       "<sqlite3.Connection object at 0x11c6b66b0>"
      ]
     },
     "execution_count": 189,
     "metadata": {},
     "output_type": "execute_result"
    }
   ],
   "source": [
    "cursor.connection"
   ]
  },
  {
   "cell_type": "code",
   "execution_count": 190,
   "id": "4504a06e-87ec-45f8-8cb4-11b48ad5616f",
   "metadata": {},
   "outputs": [
    {
     "data": {
      "text/plain": [
       "<sqlite3.Connection object at 0x11c6b66b0>"
      ]
     },
     "execution_count": 190,
     "metadata": {},
     "output_type": "execute_result"
    }
   ],
   "source": [
    "conn"
   ]
  },
  {
   "cell_type": "code",
   "execution_count": null,
   "id": "0d005a25-1c18-41f2-b125-f0b81e33fcba",
   "metadata": {},
   "outputs": [],
   "source": [
    "conn.commit()"
   ]
  },
  {
   "cell_type": "code",
   "execution_count": null,
   "id": "2910251e-ec48-46a3-b7ea-4ffb066651c4",
   "metadata": {},
   "outputs": [],
   "source": []
  },
  {
   "cell_type": "code",
   "execution_count": null,
   "id": "ebfd451e-1ec4-4f88-80f3-2e1bf936c947",
   "metadata": {},
   "outputs": [],
   "source": []
  },
  {
   "cell_type": "code",
   "execution_count": null,
   "id": "cf19a4d8-967e-479f-a2e6-004760fed86f",
   "metadata": {},
   "outputs": [],
   "source": []
  },
  {
   "cell_type": "code",
   "execution_count": null,
   "id": "c31956bc-388f-4b94-a629-32152b57e3c8",
   "metadata": {},
   "outputs": [],
   "source": []
  },
  {
   "cell_type": "markdown",
   "id": "0026ed99-904f-4ab6-90fe-2dd87200855c",
   "metadata": {},
   "source": [
    "## Batching Exploration Begin"
   ]
  },
  {
   "cell_type": "code",
   "execution_count": 44,
   "id": "c02aba43-5522-4eff-af51-760498777cc1",
   "metadata": {},
   "outputs": [],
   "source": [
    "import os\n",
    "from utils.llm_operations_langchain import prompt_exm, client, parser\n",
    "from utils.data_processing import get_data, set_slot_processing\n",
    "from openai import AzureOpenAI\n",
    "import json"
   ]
  },
  {
   "cell_type": "code",
   "execution_count": 23,
   "id": "4b3eee29-6245-474b-86b5-2d7a9cf1d5a1",
   "metadata": {},
   "outputs": [],
   "source": [
    "client = AzureOpenAI(\n",
    "        azure_endpoint=\"https://voicecast-gpt-france.openai.azure.com/\",\n",
    "        api_key=os.environ[\"OPENAI_API_KEY\"],\n",
    "        api_version=\"2025-01-01-preview\",\n",
    "    )\n",
    "\n",
    "deployment_url = \"https://voicecast-gpt-france.openai.azure.com/openai/deployments/gpt-4.1-batch/chat/completions?api-version=2024-12-01-preview\""
   ]
  },
  {
   "cell_type": "code",
   "execution_count": 24,
   "id": "695824db-3995-4626-8f3a-cd3a87c1ea49",
   "metadata": {},
   "outputs": [],
   "source": [
    "def create_completion(content, model=\"gpt-4.1\"):\n",
    "    system_msg = \"You are a helpful assistant who know English and German Language\"\n",
    "    response = client.chat.completions.create(model=model, \n",
    "        messages=[\n",
    "            {\"role\": \"system\", \"content\": system_msg},\n",
    "            {\"role\": \"user\", \"content\": content},\n",
    "        ],\n",
    "        temperature = 0\n",
    "    )\n",
    "    return response.choices[0].message.content"
   ]
  },
  {
   "cell_type": "code",
   "execution_count": 49,
   "id": "2b41297e-2546-46b2-8af9-43c342afdbae",
   "metadata": {},
   "outputs": [],
   "source": [
    "def create_batch_yaml(prompt, sender_id):\n",
    "    \n",
    "    return {\n",
    "    \"custom_id\": sender_id,\n",
    "    \"method\": \"POST\",\n",
    "    \"url\": \"/v1/chat/completions\",\n",
    "    \"body\": {\n",
    "        \"model\": \"gpt-4.1-batch\",\n",
    "        \"messages\": [\n",
    "            {\"role\": \"system\", \"content\": \"You are a helpful assistant who know English and German Language\"},\n",
    "            {\"role\": \"user\", \"content\": prompt}\n",
    "            ]\n",
    "        }\n",
    "    }\n"
   ]
  },
  {
   "cell_type": "code",
   "execution_count": 50,
   "id": "c63f0f9e-b69d-4682-b2cf-5ec83c29b121",
   "metadata": {},
   "outputs": [],
   "source": [
    "def process_chats(sender_id, df):\n",
    "    data_sample = df[df['sender_id'] == sender_id]\n",
    "    data_sample = data_sample.sort_values(by = [\"conversation time\"])\n",
    "    conversation_start_time = data_sample['conversation time'].min()\n",
    "    conversation_end_time = data_sample['conversation time'].max()\n",
    "    \n",
    "    df_vals = data_sample[data_sample[\"type_name\"].isin([\"user\", \"bot\"])][[\"type_name\", \"text\"]].values\n",
    "    conversation = \"\"\n",
    "    for speaker, text in df_vals:\n",
    "        text = text.strip(\"\\n\").strip()    \n",
    "        if \"/SetSlots\" in text:\n",
    "            text = set_slot_processing(text = text)\n",
    "        conversation += f\"{speaker}: {text}\\n\" \n",
    "        \n",
    "    prompt_final = prompt_exm.format(chat_transcript = conversation, \n",
    "                        format_instruction=parser.get_format_instructions())\n",
    "\n",
    "    batch_request_sample = create_batch_yaml(prompt = prompt_final, sender_id = sender_id)\n",
    "    # sample_result = create_completion(prompt_final)\n",
    "    return batch_request_sample \n",
    "    # sample_result = chain.invoke({\"chat_transcript\": conversation})\n",
    "    # asyncio.sleep(1)\n",
    "    # return [sender_id, conversation_start_time, conversation_end_time, sample_result['score'], \n",
    "    #         sample_result[\"reasoning\"], sample_result[\"satisfaction_label\"]]"
   ]
  },
  {
   "cell_type": "code",
   "execution_count": 51,
   "id": "ac857268-f995-4e0b-85c9-4f61b8ba2858",
   "metadata": {},
   "outputs": [],
   "source": [
    "request_list = []\n",
    "with open(\"messages.jsonl\", \"w\") as f:\n",
    "    for sender in data.sender_id.unique():\n",
    "        request_json = process_chats(sender_id=sender, df=data)\n",
    "        json.dump(request_json, f)\n",
    "        f.write(\"\\n\")"
   ]
  },
  {
   "cell_type": "code",
   "execution_count": 52,
   "id": "b0b36794-8796-4307-ac7c-1e5165d4c845",
   "metadata": {},
   "outputs": [],
   "source": [
    "file = client.files.create(\n",
    "  file=open(\"messages.jsonl\", \"rb\"), \n",
    "  purpose=\"batch\"\n",
    ")"
   ]
  },
  {
   "cell_type": "code",
   "execution_count": 123,
   "id": "e66b3f23-2d4e-4f49-b6c2-6cb21442f625",
   "metadata": {},
   "outputs": [
    {
     "data": {
      "text/plain": [
       "{'id': 'file-ee1aa3ac317a44258c136e6be0b00040', 'bytes': 15264, 'created_at': 1751743680, 'filename': 'messages.jsonl', 'object': 'file', 'purpose': 'batch', 'status': 'processed', 'expires_at': None, 'status_details': None}"
      ]
     },
     "execution_count": 123,
     "metadata": {},
     "output_type": "execute_result"
    }
   ],
   "source": [
    "file.model_dump()"
   ]
  },
  {
   "cell_type": "code",
   "execution_count": 54,
   "id": "02f10333-d4e6-4482-a184-04e0f73e4ddc",
   "metadata": {},
   "outputs": [
    {
     "name": "stdout",
     "output_type": "stream",
     "text": [
      "{\n",
      "  \"id\": \"file-ee1aa3ac317a44258c136e6be0b00040\",\n",
      "  \"bytes\": 15264,\n",
      "  \"created_at\": 1751743680,\n",
      "  \"filename\": \"messages.jsonl\",\n",
      "  \"object\": \"file\",\n",
      "  \"purpose\": \"batch\",\n",
      "  \"status\": \"processed\",\n",
      "  \"expires_at\": null,\n",
      "  \"status_details\": null\n",
      "}\n"
     ]
    }
   ],
   "source": [
    "print(file.model_dump_json(indent=2))\n",
    "file_id = file.id"
   ]
  },
  {
   "cell_type": "code",
   "execution_count": 55,
   "id": "66cadfbd-caea-40d5-a033-703a3ccca5e6",
   "metadata": {},
   "outputs": [],
   "source": [
    "batch_response = client.batches.create(\n",
    "    input_file_id=file_id,\n",
    "    endpoint=\"/chat/completions\",\n",
    "    completion_window=\"24h\",\n",
    ")"
   ]
  },
  {
   "cell_type": "markdown",
   "id": "00cb793c-6967-4834-966f-7bde9700f9a3",
   "metadata": {},
   "source": [
    "## Batching Process ends"
   ]
  },
  {
   "cell_type": "code",
   "execution_count": 126,
   "id": "d73f8de8-1c7d-4464-bb46-a98b63210e77",
   "metadata": {},
   "outputs": [
    {
     "data": {
      "text/plain": [
       "{'id': 'batch_3e62a3ce-d7c4-417b-b078-e2044502734c', 'completion_window': '24h', 'created_at': 1751743797, 'endpoint': '/chat/completions', 'input_file_id': 'file-ee1aa3ac317a44258c136e6be0b00040', 'object': 'batch', 'status': 'completed', 'cancelled_at': None, 'cancelling_at': None, 'completed_at': 1751744307, 'error_file_id': None, 'errors': None, 'expired_at': None, 'expires_at': 1751830197, 'failed_at': None, 'finalizing_at': 1751744220, 'in_progress_at': 1751744049, 'metadata': None, 'output_file_id': 'file-b88d2941-a94a-4666-89d8-05f48c10b055', 'request_counts': {'completed': 2, 'failed': 0, 'total': 2}}"
      ]
     },
     "execution_count": 126,
     "metadata": {},
     "output_type": "execute_result"
    }
   ],
   "source": [
    "batch_response.model_dump()"
   ]
  },
  {
   "cell_type": "code",
   "execution_count": 56,
   "id": "33e1239d-bcd5-4f8f-8d6e-b8aec7c01b22",
   "metadata": {},
   "outputs": [],
   "source": [
    "batch_id = batch_response.id"
   ]
  },
  {
   "cell_type": "code",
   "execution_count": null,
   "id": "b3aa9d31-22af-4cbc-8413-485479b8d9d9",
   "metadata": {},
   "outputs": [],
   "source": [
    "batch_response.model_"
   ]
  },
  {
   "cell_type": "code",
   "execution_count": 57,
   "id": "0442b831-93d0-4c48-8d35-5cf3a4745dd2",
   "metadata": {},
   "outputs": [
    {
     "name": "stdout",
     "output_type": "stream",
     "text": [
      "{\n",
      "  \"id\": \"batch_3e62a3ce-d7c4-417b-b078-e2044502734c\",\n",
      "  \"completion_window\": \"24h\",\n",
      "  \"created_at\": 1751743797,\n",
      "  \"endpoint\": \"/chat/completions\",\n",
      "  \"input_file_id\": \"file-ee1aa3ac317a44258c136e6be0b00040\",\n",
      "  \"object\": \"batch\",\n",
      "  \"status\": \"validating\",\n",
      "  \"cancelled_at\": null,\n",
      "  \"cancelling_at\": null,\n",
      "  \"completed_at\": null,\n",
      "  \"error_file_id\": \"\",\n",
      "  \"errors\": null,\n",
      "  \"expired_at\": null,\n",
      "  \"expires_at\": 1751830197,\n",
      "  \"failed_at\": null,\n",
      "  \"finalizing_at\": null,\n",
      "  \"in_progress_at\": null,\n",
      "  \"metadata\": null,\n",
      "  \"output_file_id\": \"\",\n",
      "  \"request_counts\": {\n",
      "    \"completed\": 0,\n",
      "    \"failed\": 0,\n",
      "    \"total\": 0\n",
      "  }\n",
      "}\n"
     ]
    }
   ],
   "source": [
    "print(batch_response.model_dump_json(indent=2))"
   ]
  },
  {
   "cell_type": "code",
   "execution_count": 129,
   "id": "ad24285b-101d-4a23-9458-6f93ff22eadb",
   "metadata": {},
   "outputs": [],
   "source": [
    "import pandas as pd"
   ]
  },
  {
   "cell_type": "code",
   "execution_count": 151,
   "id": "b4389b6c-0c14-48aa-bc97-562750ba7b95",
   "metadata": {},
   "outputs": [
    {
     "data": {
      "text/plain": [
       "'completed'"
      ]
     },
     "execution_count": 151,
     "metadata": {},
     "output_type": "execute_result"
    }
   ],
   "source": [
    "batch_response.to_dict()[\"status\"]#.model_dump()"
   ]
  },
  {
   "cell_type": "code",
   "execution_count": 146,
   "id": "a467410b-fb5a-4b4d-8ff0-0715ee7bb6b4",
   "metadata": {},
   "outputs": [],
   "source": [
    "batch_frame = batch_response.to_dict()"
   ]
  },
  {
   "cell_type": "code",
   "execution_count": 149,
   "id": "48468f4f-216c-4967-be4d-52de0c5e3c17",
   "metadata": {},
   "outputs": [
    {
     "name": "stdout",
     "output_type": "stream",
     "text": [
      "id batch_3e62a3ce-d7c4-417b-b078-e2044502734c\n",
      "completion_window 24h\n",
      "created_at 1751743797\n",
      "endpoint /chat/completions\n",
      "input_file_id file-ee1aa3ac317a44258c136e6be0b00040\n",
      "object batch\n",
      "status completed\n",
      "cancelled_at None\n",
      "cancelling_at None\n",
      "completed_at 1751744307\n",
      "error_file_id None\n",
      "errors None\n",
      "expired_at None\n",
      "expires_at 1751830197\n",
      "failed_at None\n",
      "finalizing_at 1751744220\n",
      "in_progress_at 1751744049\n",
      "metadata None\n",
      "output_file_id file-b88d2941-a94a-4666-89d8-05f48c10b055\n",
      "request_counts {'completed': 2, 'failed': 0, 'total': 2}\n"
     ]
    }
   ],
   "source": [
    "for key, values in batch_frame.items():\n",
    "    \n",
    "    vals = values\n",
    "    col\n",
    "    print(key, values)"
   ]
  },
  {
   "cell_type": "code",
   "execution_count": 143,
   "id": "b4c291d9-6242-44f5-bef3-c1d0f137334e",
   "metadata": {},
   "outputs": [],
   "source": [
    "del batch_frame[\"request_counts\"]"
   ]
  },
  {
   "cell_type": "code",
   "execution_count": 59,
   "id": "10e43395-3858-470d-98bd-801a0391c1f4",
   "metadata": {},
   "outputs": [
    {
     "data": {
      "text/plain": [
       "Batch(id='batch_3e62a3ce-d7c4-417b-b078-e2044502734c', completion_window='24h', created_at=1751743797, endpoint='/chat/completions', input_file_id='file-ee1aa3ac317a44258c136e6be0b00040', object='batch', status='completed', cancelled_at=None, cancelling_at=None, completed_at=1751744307, error_file_id=None, errors=None, expired_at=None, expires_at=1751830197, failed_at=None, finalizing_at=1751744220, in_progress_at=1751744049, metadata=None, output_file_id='file-b88d2941-a94a-4666-89d8-05f48c10b055', request_counts=BatchRequestCounts(completed=2, failed=0, total=2))"
      ]
     },
     "execution_count": 59,
     "metadata": {},
     "output_type": "execute_result"
    }
   ],
   "source": [
    "client.batches.retrieve(batch_id)"
   ]
  },
  {
   "cell_type": "code",
   "execution_count": null,
   "id": "db2c6d8d-4900-462e-9ffd-61bb6a90303c",
   "metadata": {},
   "outputs": [],
   "source": []
  },
  {
   "cell_type": "code",
   "execution_count": null,
   "id": "635d5c2b-e873-4c47-8051-925dade96148",
   "metadata": {},
   "outputs": [],
   "source": [
    "import time\n",
    "import datetime \n",
    "\n",
    "status = \"validating\"\n",
    "while status not in (\"completed\", \"failed\", \"canceled\"):\n",
    "    time.sleep(60)\n",
    "    batch_response = client.batches.retrieve(batch_id)\n",
    "    status = batch_response.status\n",
    "    print(f\"{datetime.datetime.now()} Batch Id: {batch_id},  Status: {status}\")\n",
    "\n",
    "if batch_response.status == \"failed\":\n",
    "    for error in batch_response.errors.data:  \n",
    "        print(f\"Error code {error.code} Message {error.message}\")"
   ]
  },
  {
   "cell_type": "code",
   "execution_count": 152,
   "id": "b2f0e016-a954-49b1-9a20-194925b7098d",
   "metadata": {},
   "outputs": [],
   "source": [
    "batch_id = \"batch_31022594-dad3-4517-a33c-b4042f8a4463\""
   ]
  },
  {
   "cell_type": "code",
   "execution_count": 153,
   "id": "f865b6a7-99c1-4af4-b9d8-ad9c97ecb16d",
   "metadata": {},
   "outputs": [],
   "source": [
    "batch_response = client.batches.retrieve(batch_id)"
   ]
  },
  {
   "cell_type": "code",
   "execution_count": 154,
   "id": "e46227ac-929b-4c75-98e9-44746460ce1d",
   "metadata": {},
   "outputs": [
    {
     "data": {
      "text/plain": [
       "Batch(id='batch_31022594-dad3-4517-a33c-b4042f8a4463', completion_window='24h', created_at=1751823184, endpoint='/chat/completions', input_file_id='file-3f66bbc19b0d4e309ed228e10e771e8c', object='batch', status='completed', cancelled_at=None, cancelling_at=None, completed_at=1751823783, error_file_id=None, errors=None, expired_at=None, expires_at=1751909584, failed_at=None, finalizing_at=1751823640, in_progress_at=1751823495, metadata=None, output_file_id='file-144fcbae-bb9c-4d7e-a70c-a6be9416553b', request_counts=BatchRequestCounts(completed=3, failed=0, total=3))"
      ]
     },
     "execution_count": 154,
     "metadata": {},
     "output_type": "execute_result"
    }
   ],
   "source": [
    "batch_response"
   ]
  },
  {
   "cell_type": "code",
   "execution_count": 156,
   "id": "b04213ed-56f6-4619-b223-ef72f3622301",
   "metadata": {},
   "outputs": [
    {
     "name": "stdout",
     "output_type": "stream",
     "text": [
      "{\n",
      "  \"custom_id\": \"btLyma2P7Yq2Owe9R5O17\",\n",
      "  \"response\": {\n",
      "    \"body\": {\n",
      "      \"choices\": [\n",
      "        {\n",
      "          \"content_filter_results\": {\n",
      "            \"hate\": {\n",
      "              \"filtered\": false,\n",
      "              \"severity\": \"safe\"\n",
      "            },\n",
      "            \"protected_material_code\": {\n",
      "              \"filtered\": false,\n",
      "              \"detected\": false\n",
      "            },\n",
      "            \"protected_material_text\": {\n",
      "              \"filtered\": false,\n",
      "              \"detected\": false\n",
      "            },\n",
      "            \"self_harm\": {\n",
      "              \"filtered\": false,\n",
      "              \"severity\": \"safe\"\n",
      "            },\n",
      "            \"sexual\": {\n",
      "              \"filtered\": false,\n",
      "              \"severity\": \"safe\"\n",
      "            },\n",
      "            \"violence\": {\n",
      "              \"filtered\": false,\n",
      "              \"severity\": \"safe\"\n",
      "            }\n",
      "          },\n",
      "          \"finish_reason\": \"stop\",\n",
      "          \"index\": 0,\n",
      "          \"logprobs\": null,\n",
      "          \"message\": {\n",
      "            \"annotations\": [],\n",
      "            \"content\": \"{\\n  \\\"score\\\": 4,\\n  \\\"reasoning\\\": \\\"Positive:\\\\n\\u2022 The bot correctly identified the user's need (Zertifikat auf dem Handy) and routed them through clear button-based choices related to SMIME-Zertifikate.\\\\n\\u2022 Provided specific, relevant knowledge articles with direct links on how to request/retrieve the SMIME certificate.\\\\n\\u2022 Bot checked for successful resolution at the end by asking if the user can now encrypt/decrypt emails.\\\\n\\u2022 Clear next steps and context-appropriate troubleshooting/manual resources were provided.\\\\n\\\\nNegative:\\\\n\\u2022 The conversation was somewhat generic in tone \\u2013 could have shown more empathy or tailored messaging.\\\\n\\u2022 The bot's initial response bundled in general Intune-Migration info, which could be distracting if not relevant to the user.\\\\n\\u2022 Final satisfaction confirmation is present but relies on the user to actively respond rather than proactively closing the loop based on more user engagement.\\\\n\\\",\\n  \\\"satisfaction_label\\\": \\\"Satisfied\\\"\\n}\",\n",
      "            \"refusal\": null,\n",
      "            \"role\": \"assistant\"\n",
      "          }\n",
      "        }\n",
      "      ],\n",
      "      \"created\": 1751823526,\n",
      "      \"id\": \"chatcmpl-BqNc6MAkjRhSEqlyYiysV8lLdBCkK\",\n",
      "      \"model\": \"gpt-4.1-2025-04-14\",\n",
      "      \"object\": \"chat.completion\",\n",
      "      \"prompt_filter_results\": [\n",
      "        {\n",
      "          \"prompt_index\": 0,\n",
      "          \"content_filter_results\": {\n",
      "            \"hate\": {\n",
      "              \"filtered\": false,\n",
      "              \"severity\": \"safe\"\n",
      "            },\n",
      "            \"jailbreak\": {\n",
      "              \"filtered\": false,\n",
      "              \"detected\": false\n",
      "            },\n",
      "            \"self_harm\": {\n",
      "              \"filtered\": false,\n",
      "              \"severity\": \"safe\"\n",
      "            },\n",
      "            \"sexual\": {\n",
      "              \"filtered\": false,\n",
      "              \"severity\": \"safe\"\n",
      "            },\n",
      "            \"violence\": {\n",
      "              \"filtered\": false,\n",
      "              \"severity\": \"safe\"\n",
      "            }\n",
      "          }\n",
      "        }\n",
      "      ],\n",
      "      \"system_fingerprint\": \"fp_07e970ab25\",\n",
      "      \"usage\": {\n",
      "        \"completion_tokens\": 199,\n",
      "        \"completion_tokens_details\": {\n",
      "          \"accepted_prediction_tokens\": 0,\n",
      "          \"audio_tokens\": 0,\n",
      "          \"reasoning_tokens\": 0,\n",
      "          \"rejected_prediction_tokens\": 0\n",
      "        },\n",
      "        \"prompt_tokens\": 1695,\n",
      "        \"prompt_tokens_details\": {\n",
      "          \"audio_tokens\": 0,\n",
      "          \"cached_tokens\": 0\n",
      "        },\n",
      "        \"total_tokens\": 1894\n",
      "      }\n",
      "    },\n",
      "    \"request_id\": \"1fcaa1ec-d23d-4d9d-9505-3d268e154fff\",\n",
      "    \"status_code\": 200\n",
      "  },\n",
      "  \"error\": null\n",
      "}\n",
      "{\n",
      "  \"custom_id\": \"Ny7i23GjoezOA_h6NjwIK\",\n",
      "  \"response\": {\n",
      "    \"body\": {\n",
      "      \"choices\": [\n",
      "        {\n",
      "          \"content_filter_results\": {\n",
      "            \"hate\": {\n",
      "              \"filtered\": false,\n",
      "              \"severity\": \"safe\"\n",
      "            },\n",
      "            \"protected_material_code\": {\n",
      "              \"filtered\": false,\n",
      "              \"detected\": false\n",
      "            },\n",
      "            \"protected_material_text\": {\n",
      "              \"filtered\": false,\n",
      "              \"detected\": false\n",
      "            },\n",
      "            \"self_harm\": {\n",
      "              \"filtered\": false,\n",
      "              \"severity\": \"safe\"\n",
      "            },\n",
      "            \"sexual\": {\n",
      "              \"filtered\": false,\n",
      "              \"severity\": \"safe\"\n",
      "            },\n",
      "            \"violence\": {\n",
      "              \"filtered\": false,\n",
      "              \"severity\": \"safe\"\n",
      "            }\n",
      "          },\n",
      "          \"finish_reason\": \"stop\",\n",
      "          \"index\": 0,\n",
      "          \"logprobs\": null,\n",
      "          \"message\": {\n",
      "            \"annotations\": [],\n",
      "            \"content\": \"{\\n  \\\"score\\\": 4,\\n  \\\"reasoning\\\": \\\"Positive:\\\\n\\u2022 The bot quickly understood the user's intent to request a certificate related to MyCard issues and navigated them towards self-service options with clear, relevant links.\\\\n\\u2022 Provided detailed explanations about recent changes (new infrastructure, need to use new portal), set user expectations about retries, and gave step-by-step guidance.\\\\n\\u2022 Offered specific troubleshooting steps (certificate clean-up) with a direct manual and safety reminder.\\\\n\\u2022 The bot checked if the proposed solution helped, seeking explicit confirmation of resolution.\\\\nNegative:\\\\n\\u2022 The initial bot message had a long, multi-topic focus which might have slightly overloaded the user at the start.\\\\n\\u2022 There were several links and information chunks, which could be a bit overwhelming and slightly less smooth than ideal.\\\\n\\u2022 There was no explicit offer to escalate to a human if the self-help doesn't work, only relying on user feedback after trying the document.\\\\n\\\",\\n  \\\"satisfaction_label\\\": \\\"Satisfied\\\"\\n}\",\n",
      "            \"refusal\": null,\n",
      "            \"role\": \"assistant\"\n",
      "          }\n",
      "        }\n",
      "      ],\n",
      "      \"created\": 1751823526,\n",
      "      \"id\": \"chatcmpl-BqNc60jiEKZOw0OeFVM6VXJwE52jc\",\n",
      "      \"model\": \"gpt-4.1-2025-04-14\",\n",
      "      \"object\": \"chat.completion\",\n",
      "      \"prompt_filter_results\": [\n",
      "        {\n",
      "          \"prompt_index\": 0,\n",
      "          \"content_filter_results\": {\n",
      "            \"hate\": {\n",
      "              \"filtered\": false,\n",
      "              \"severity\": \"safe\"\n",
      "            },\n",
      "            \"jailbreak\": {\n",
      "              \"filtered\": false,\n",
      "              \"detected\": false\n",
      "            },\n",
      "            \"self_harm\": {\n",
      "              \"filtered\": false,\n",
      "              \"severity\": \"safe\"\n",
      "            },\n",
      "            \"sexual\": {\n",
      "              \"filtered\": false,\n",
      "              \"severity\": \"safe\"\n",
      "            },\n",
      "            \"violence\": {\n",
      "              \"filtered\": false,\n",
      "              \"severity\": \"safe\"\n",
      "            }\n",
      "          }\n",
      "        }\n",
      "      ],\n",
      "      \"system_fingerprint\": \"fp_07e970ab25\",\n",
      "      \"usage\": {\n",
      "        \"completion_tokens\": 207,\n",
      "        \"completion_tokens_details\": {\n",
      "          \"accepted_prediction_tokens\": 0,\n",
      "          \"audio_tokens\": 0,\n",
      "          \"reasoning_tokens\": 0,\n",
      "          \"rejected_prediction_tokens\": 0\n",
      "        },\n",
      "        \"prompt_tokens\": 1659,\n",
      "        \"prompt_tokens_details\": {\n",
      "          \"audio_tokens\": 0,\n",
      "          \"cached_tokens\": 0\n",
      "        },\n",
      "        \"total_tokens\": 1866\n",
      "      }\n",
      "    },\n",
      "    \"request_id\": \"3a6155cf-de42-44c4-92e6-b997ed2f2f58\",\n",
      "    \"status_code\": 200\n",
      "  },\n",
      "  \"error\": null\n",
      "}\n",
      "{\n",
      "  \"custom_id\": \"yCCKo0asCCrhjWVvgCGQw\",\n",
      "  \"response\": {\n",
      "    \"body\": {\n",
      "      \"choices\": [\n",
      "        {\n",
      "          \"content_filter_results\": {\n",
      "            \"hate\": {\n",
      "              \"filtered\": false,\n",
      "              \"severity\": \"safe\"\n",
      "            },\n",
      "            \"protected_material_code\": {\n",
      "              \"filtered\": false,\n",
      "              \"detected\": false\n",
      "            },\n",
      "            \"protected_material_text\": {\n",
      "              \"filtered\": false,\n",
      "              \"detected\": false\n",
      "            },\n",
      "            \"self_harm\": {\n",
      "              \"filtered\": false,\n",
      "              \"severity\": \"safe\"\n",
      "            },\n",
      "            \"sexual\": {\n",
      "              \"filtered\": false,\n",
      "              \"severity\": \"safe\"\n",
      "            },\n",
      "            \"violence\": {\n",
      "              \"filtered\": false,\n",
      "              \"severity\": \"safe\"\n",
      "            }\n",
      "          },\n",
      "          \"finish_reason\": \"stop\",\n",
      "          \"index\": 0,\n",
      "          \"logprobs\": null,\n",
      "          \"message\": {\n",
      "            \"annotations\": [],\n",
      "            \"content\": \"{\\n  \\\"score\\\": 3,\\n  \\\"satisfaction_label\\\": \\\"Neutral\\\",\\n  \\\"reasoning\\\": \\\"Positive:\\\\n\\u2022 The bot guided the user through standard troubleshooting effectively and offered step-by-step clarifications.\\\\n\\u2022 Clear escalation to human support was provided via ticket creation instructions and hyperlink.\\\\n\\u2022 The tone was polite and attempted to ensure prerequisites were checked.\\\\n\\\\nNegative:\\\\n\\u2022 The resolution process was not fully self-service \\u2013 the user was required to open a new ticket instead of the bot automating the escalation or directly creating a ticket, adding user effort.\\\\n\\u2022 The bot gave repetitive, somewhat verbose explanations, and the solution flow ended rather abruptly with a feedback prompt before confirming clear closure for the user.\\\\n\\u2022 The bot implied closure (\\u201cIch freue mich, dass ich dir helfen konnte\\u201d) before the user's issue was actually resolved, which could be slightly presumptive or dissatisfying if the user still faces problems.\\\\n\\u2022 No explicit confirmation or summary that guides the user to expect next steps from support.\\\\n\\\"\\n}\",\n",
      "            \"refusal\": null,\n",
      "            \"role\": \"assistant\"\n",
      "          }\n",
      "        }\n",
      "      ],\n",
      "      \"created\": 1751823526,\n",
      "      \"id\": \"chatcmpl-BqNc6UG50BvaN4piUZHgoqU5ppIhf\",\n",
      "      \"model\": \"gpt-4.1-2025-04-14\",\n",
      "      \"object\": \"chat.completion\",\n",
      "      \"prompt_filter_results\": [\n",
      "        {\n",
      "          \"prompt_index\": 0,\n",
      "          \"content_filter_results\": {\n",
      "            \"hate\": {\n",
      "              \"filtered\": false,\n",
      "              \"severity\": \"safe\"\n",
      "            },\n",
      "            \"jailbreak\": {\n",
      "              \"filtered\": false,\n",
      "              \"detected\": false\n",
      "            },\n",
      "            \"self_harm\": {\n",
      "              \"filtered\": false,\n",
      "              \"severity\": \"safe\"\n",
      "            },\n",
      "            \"sexual\": {\n",
      "              \"filtered\": false,\n",
      "              \"severity\": \"safe\"\n",
      "            },\n",
      "            \"violence\": {\n",
      "              \"filtered\": false,\n",
      "              \"severity\": \"safe\"\n",
      "            }\n",
      "          }\n",
      "        }\n",
      "      ],\n",
      "      \"system_fingerprint\": \"fp_07e970ab25\",\n",
      "      \"usage\": {\n",
      "        \"completion_tokens\": 210,\n",
      "        \"completion_tokens_details\": {\n",
      "          \"accepted_prediction_tokens\": 0,\n",
      "          \"audio_tokens\": 0,\n",
      "          \"reasoning_tokens\": 0,\n",
      "          \"rejected_prediction_tokens\": 0\n",
      "        },\n",
      "        \"prompt_tokens\": 1730,\n",
      "        \"prompt_tokens_details\": {\n",
      "          \"audio_tokens\": 0,\n",
      "          \"cached_tokens\": 0\n",
      "        },\n",
      "        \"total_tokens\": 1940\n",
      "      }\n",
      "    },\n",
      "    \"request_id\": \"d992ef77-e281-4904-af86-15a4c5982ef4\",\n",
      "    \"status_code\": 200\n",
      "  },\n",
      "  \"error\": null\n",
      "}\n"
     ]
    }
   ],
   "source": [
    "import json\n",
    "\n",
    "output_file_id = batch_response.output_file_id\n",
    "\n",
    "if not output_file_id:\n",
    "    output_file_id = batch_response.error_file_id\n",
    "\n",
    "if output_file_id:\n",
    "    file_response = client.files.content(output_file_id)\n",
    "    raw_responses = file_response.text.strip().split('\\n')  \n",
    "\n",
    "    for raw_response in raw_responses:  \n",
    "        json_response = json.loads(raw_response)  \n",
    "        formatted_json = json.dumps(json_response, indent=2)  \n",
    "        print(formatted_json)"
   ]
  },
  {
   "cell_type": "code",
   "execution_count": null,
   "id": "83d8e580-7864-46a6-853c-30fd7fd76c5d",
   "metadata": {},
   "outputs": [],
   "source": []
  },
  {
   "cell_type": "code",
   "execution_count": 74,
   "id": "703f2f60-2093-4e74-a15b-da9963e2f43f",
   "metadata": {},
   "outputs": [
    {
     "data": {
      "text/plain": [
       "dict_keys(['body', 'request_id', 'status_code'])"
      ]
     },
     "execution_count": 74,
     "metadata": {},
     "output_type": "execute_result"
    }
   ],
   "source": [
    "json_response[\"response\"].keys()#[\"message\"]"
   ]
  },
  {
   "cell_type": "code",
   "execution_count": 82,
   "id": "0e94103b-0443-4b23-a674-ab75e854aadd",
   "metadata": {},
   "outputs": [
    {
     "data": {
      "text/plain": [
       "dict_keys(['choices', 'created', 'id', 'model', 'object', 'prompt_filter_results', 'system_fingerprint', 'usage'])"
      ]
     },
     "execution_count": 82,
     "metadata": {},
     "output_type": "execute_result"
    }
   ],
   "source": [
    "json_response[\"response\"]['body'].keys()"
   ]
  },
  {
   "cell_type": "code",
   "execution_count": 110,
   "id": "6f602615-48b7-4e23-8788-0938f47e24a2",
   "metadata": {},
   "outputs": [
    {
     "data": {
      "text/plain": [
       "4"
      ]
     },
     "execution_count": 110,
     "metadata": {},
     "output_type": "execute_result"
    }
   ],
   "source": [
    "json.loads(json.loads(raw_responses[1])[\"response\"][\"body\"][\"choices\"][0][\"message\"][\"content\"])[\"score\"]"
   ]
  },
  {
   "cell_type": "code",
   "execution_count": 112,
   "id": "44af34f1-3549-4113-8240-f8dc99e458c7",
   "metadata": {},
   "outputs": [
    {
     "data": {
      "text/plain": [
       "'Satisfied'"
      ]
     },
     "execution_count": 112,
     "metadata": {},
     "output_type": "execute_result"
    }
   ],
   "source": [
    "json.loads(json.loads(raw_responses[1])[\"response\"][\"body\"][\"choices\"][0][\"message\"][\"content\"])['satisfaction_label']"
   ]
  },
  {
   "cell_type": "code",
   "execution_count": 115,
   "id": "edcb1161-42e9-4d21-a6e4-4fe21f8a4832",
   "metadata": {},
   "outputs": [
    {
     "name": "stdout",
     "output_type": "stream",
     "text": [
      "Positive:\n",
      "• The chatbot understood the user's intent (certifikat anfordern) and guided them through specific MyCard topics efficiently.\n",
      "• Provided multiple helpful hyperlinks to manuals and instructions for self-service.\n",
      "• Shared troubleshooting advice and clarified what to do if initial attempts fail, which demonstrated good anticipation of user needs.\n",
      "• The bot's tone was friendly and provided clear next steps for problem resolution.\n",
      "\n",
      "Negative:\n",
      "• There were several lengthy messages from the bot, potentially a bit overwhelming with multiple links (especially undistinguished ***** Benutzer), which may cause slight confusion.\n",
      "• No explicit offer of escalation to a human if the steps don't help (though the conversation is not finished yet), but did ask if the solution helped.\n",
      "• The process was smooth but could have been more concise—some instructions appeared verbose or slightly redundant between main text and links.\n",
      "\n"
     ]
    }
   ],
   "source": [
    "print(json.loads(json.loads(raw_responses[1])[\"response\"][\"body\"][\"choices\"][0][\"message\"][\"content\"])['reasoning'])"
   ]
  },
  {
   "cell_type": "code",
   "execution_count": 84,
   "id": "463b9418-e5f7-489a-a3d9-dc54233b7771",
   "metadata": {},
   "outputs": [
    {
     "name": "stdout",
     "output_type": "stream",
     "text": [
      "{'body': {'choices': [{'content_filter_results': {'hate': {'filtered': False,\n",
      "                                                           'severity': 'safe'},\n",
      "                                                  'protected_material_code': {'detected': False,\n",
      "                                                                              'filtered': False},\n",
      "                                                  'protected_material_text': {'detected': False,\n",
      "                                                                              'filtered': False},\n",
      "                                                  'self_harm': {'filtered': False,\n",
      "                                                                'severity': 'safe'},\n",
      "                                                  'sexual': {'filtered': False,\n",
      "                                                             'severity': 'safe'},\n",
      "                                                  'violence': {'filtered': False,\n",
      "                                                               'severity': 'safe'}},\n",
      "                       'finish_reason': 'stop',\n",
      "                       'index': 0,\n",
      "                       'logprobs': None,\n",
      "                       'message': {'annotations': [],\n",
      "                                   'content': '{\\n'\n",
      "                                              '  \"score\": 4,\\n'\n",
      "                                              '  \"satisfaction_label\": '\n",
      "                                              '\"Satisfied\",\\n'\n",
      "                                              '  \"reasoning\": \"Positive:\\\\n• '\n",
      "                                              'The bot guided the user '\n",
      "                                              'step-by-step to the relevant '\n",
      "                                              'information and resources '\n",
      "                                              '(SMIME certificate '\n",
      "                                              'instructions) with hyperlinked '\n",
      "                                              'help articles.\\\\n• The '\n",
      "                                              'conversation flowed logically '\n",
      "                                              'with button choices, reducing '\n",
      "                                              'ambiguity in user intent.\\\\n• '\n",
      "                                              'The bot ended by checking if '\n",
      "                                              'the problem was resolved, '\n",
      "                                              'giving the user a chance to '\n",
      "                                              'confirm success or continue '\n",
      "                                              'troubleshooting.\\\\n\\\\nNegative:\\\\n• '\n",
      "                                              'The bot could have shown more '\n",
      "                                              'empathy or direct confirmation '\n",
      "                                              \"for the user's problem in its \"\n",
      "                                              'statements (its tone was very '\n",
      "                                              'procedural and not '\n",
      "                                              'personal).\\\\n• A small delay in '\n",
      "                                              'resolution since the user had '\n",
      "                                              'to make several button '\n",
      "                                              'selections before receiving the '\n",
      "                                              'guidance link, which might feel '\n",
      "                                              'somewhat lengthy but not '\n",
      "                                              'frustrating.\\\\n\",\\n'\n",
      "                                              '}\\n',\n",
      "                                   'refusal': None,\n",
      "                                   'role': 'assistant'}}],\n",
      "          'created': 1751744104,\n",
      "          'id': 'chatcmpl-Bq2x6dTBoPf2a2TQlog5rK7gjK2mi',\n",
      "          'model': 'gpt-4.1-2025-04-14',\n",
      "          'object': 'chat.completion',\n",
      "          'prompt_filter_results': [{'content_filter_results': {'hate': {'filtered': False,\n",
      "                                                                         'severity': 'safe'},\n",
      "                                                                'jailbreak': {'detected': False,\n",
      "                                                                              'filtered': False},\n",
      "                                                                'self_harm': {'filtered': False,\n",
      "                                                                              'severity': 'safe'},\n",
      "                                                                'sexual': {'filtered': False,\n",
      "                                                                           'severity': 'safe'},\n",
      "                                                                'violence': {'filtered': False,\n",
      "                                                                             'severity': 'safe'}},\n",
      "                                     'prompt_index': 0}],\n",
      "          'system_fingerprint': 'fp_07e970ab25',\n",
      "          'usage': {'completion_tokens': 162,\n",
      "                    'completion_tokens_details': {'accepted_prediction_tokens': 0,\n",
      "                                                  'audio_tokens': 0,\n",
      "                                                  'reasoning_tokens': 0,\n",
      "                                                  'rejected_prediction_tokens': 0},\n",
      "                    'prompt_tokens': 1695,\n",
      "                    'prompt_tokens_details': {'audio_tokens': 0,\n",
      "                                              'cached_tokens': 0},\n",
      "                    'total_tokens': 1857}},\n",
      " 'request_id': 'aad49d2f-d48c-4213-962c-959c6344e5c1',\n",
      " 'status_code': 200}\n"
     ]
    }
   ],
   "source": [
    "pprint(json_response[\"response\"])"
   ]
  },
  {
   "cell_type": "code",
   "execution_count": null,
   "id": "31a83a43-411a-4771-9200-2cca1d424697",
   "metadata": {},
   "outputs": [],
   "source": [
    "\n",
    "\n",
    "    for entry in data:\n",
    "        json.dump(entry, f)\n",
    "        f.write(\"\\n\")\n"
   ]
  },
  {
   "cell_type": "code",
   "execution_count": 31,
   "id": "3938c560-6564-4812-9fdf-b5c9f32da7b6",
   "metadata": {},
   "outputs": [
    {
     "data": {
      "text/plain": [
       "{'custom_id': '1',\n",
       " 'method': 'POST',\n",
       " 'url': '/v1/chat/completions',\n",
       " 'body': {'model': 'gpt-4.1',\n",
       "  'messages': [{'role': 'system',\n",
       "    'content': 'You are a helpful assistant who know English and German Language'},\n",
       "   {'role': 'user', 'content': ''}]}}"
      ]
     },
     "execution_count": 31,
     "metadata": {},
     "output_type": "execute_result"
    }
   ],
   "source": [
    "create_batch_yaml(prompt= \"\", sender_id = \"1\")"
   ]
  },
  {
   "cell_type": "code",
   "execution_count": 13,
   "id": "46dde392-bdfe-4183-9f2a-d387337711ac",
   "metadata": {},
   "outputs": [],
   "source": [
    "sample_result = create_completion(sample_prompt)"
   ]
  },
  {
   "cell_type": "code",
   "execution_count": 14,
   "id": "81638071-c7f1-40e8-99ec-54b2401362de",
   "metadata": {},
   "outputs": [],
   "source": [
    "import json"
   ]
  },
  {
   "cell_type": "code",
   "execution_count": 15,
   "id": "13626b9e-d93d-4a48-afec-4d83bd81a115",
   "metadata": {},
   "outputs": [
    {
     "data": {
      "text/plain": [
       "{'score': 4,\n",
       " 'satisfaction_label': 'Satisfied',\n",
       " 'reasoning': \"Positive:\\n• The bot understood the user's intent from the start and provided relevant information about the MyCard certificate process.\\n• It offered clear self-service instructions and direct links to documentation and troubleshooting steps.\\n• The bot proactively explained possible issues with the new infrastructure and gave practical advice (retrying the process, removing the card before deletion, etc.).\\n• The flow was logical and the bot checked if the solution helped, showing engagement.\\nNegative:\\n• The bot sent multiple consecutive messages, which could feel a bit overwhelming or cluttered.\\n• There was some repetition in the information about the new portal and retrying, which could have been condensed.\\n• The conversation ended with a check if the solution helped, but there was no confirmation of resolution yet (pending user response).\"}"
      ]
     },
     "execution_count": 15,
     "metadata": {},
     "output_type": "execute_result"
    }
   ],
   "source": [
    "json.loads(sample_result)"
   ]
  },
  {
   "cell_type": "code",
   "execution_count": null,
   "id": "4fcc42e0-12ea-4591-9df7-23ac0fc96c28",
   "metadata": {},
   "outputs": [],
   "source": [
    "import requests\n",
    "import json\n",
    "\n",
    "# Replace with your actual values\n",
    "deployment_url = \"https://voicecast-gpt-france.openai.azure.com/openai/deployments/gpt-4.1/chat/completions?api-version=2024-12-01-preview\"\n",
    "api_key = os.environ[\"OPENAI_API_KEY\"]\n",
    "\n",
    "headers = {\n",
    "    \"Content-Type\": \"application/json\",\n",
    "    \"api-key\": api_key\n",
    "}\n",
    "\n",
    "payload = {\n",
    "    \"messages\": [\n",
    "        {\"role\": \"system\", \"content\": \"You are a helpful assistant.\"},\n",
    "        {\"role\": \"user\", \"content\": \"Tell me a fun fact about space.\"}\n",
    "    ],\n",
    "    \"temperature\": 0.7,\n",
    "    \"max_tokens\": 100\n",
    "}\n",
    "\n",
    "response = requests.post(deployment_url, headers=headers, json=payload)\n",
    "\n",
    "if response.status_code == 200:\n",
    "    result = response.json()\n",
    "    print(result['choices'][0]['message']['content'])\n",
    "else:\n",
    "    print(f\"Request failed: {response.status_code}\")\n",
    "    print(response.text)"
   ]
  },
  {
   "cell_type": "code",
   "execution_count": 11,
   "id": "7f47f473-b152-4d2a-a718-27661018d8ca",
   "metadata": {},
   "outputs": [
    {
     "name": "stdout",
     "output_type": "stream",
     "text": [
      "\n",
      "\n",
      "You are evaluating a conversation between company employee and internal IT service desk chatbot. Chatbot is called CSD chatbot and it is supposed to help employees with their workplace related issues, be it HW, SW, account, password or similar issue. Chatbot can provide either self-service support with troubleshooting and resolution of the issue, navigate to proper manual via hyperlink, trigger ticket creation or involvement of human agent.\n",
      "\n",
      "Your goal is to evaluate the interaction from the **user’s perspective**, as if you were the user. Assess how the user likely felt during the interaction, particularly how satisfied, frustrated, or neutral they were based on the responses they received.\n",
      "\n",
      "Use the following criteria to assess the conversation quality:\n",
      "\n",
      "---\n",
      "\n",
      "Evaluation Criteria:\n",
      "1.\tUser Sentiment:\n",
      "\t•\tLook for signs of frustration, repetition, escalation, or unresolved issues.\n",
      "\t•\tBe cautious about users who initially seem neutral but express dissatisfaction near the end.\n",
      "\t•\tIf the sentiment is ambiguous or not clearly positive/negative, return “Unclear”.\n",
      "2.\tTask Completion:\n",
      "\t•\tDid the bot resolve the user’s request or guide them to a solution?\n",
      "\t•\tOr did the conversation end without a clear resolution?\n",
      "3.\tClarity of Understanding:\n",
      "\t•\tDid the bot understand the intent clearly?\n",
      "\t•\tWas the user forced to rephrase or correct the bot?\n",
      "4.\tTone and Sentiment of Bot:\n",
      "\t•\tWas the tone helpful, cold, overly generic, or repetitive?\n",
      "\t•\tDid it acknowledge the user’s problem empathetically?\n",
      "5.\tUser Experience Flow:\n",
      "\t•\tWas the interaction smooth and intuitive?\n",
      "\t•\tDid the bot offer clear next steps or help links?\n",
      "6.\tEscalation or Confusion:\n",
      "\t•\tDid the bot offer escalation to human support when needed?\n",
      "\t•\tDid the bot loop the user or confuse them further?\n",
      "7. Unclear Conversations:\n",
      "   Assign the **“Unclear”** label **only** when one or more of the following apply:\n",
      "    • User message is vague, contextless, or disconnected from previous messages.\n",
      "    • There are **loops or resets in the conversation** without progress or clarity.\n",
      "    • User intent keeps shifting without confirmation, or user gives up or changes topic suddenly.\n",
      "\n",
      "If a message is UnClear then dont consider any other evaluation criteria. Return only unclear.\n",
      "\n",
      "Strict Instruction:\n",
      "\t•\tAlways penalize for repetition of bot prompts i.e. bot did not understand the user.\n",
      "\t•\tIf the user has to click the same button twice or is asked to rephrase repeatedly, subtract marks.\n",
      "\t•\tDo not give high scores if the conversation ends without clear confirmation that the user’s issue is resolved.\n",
      "\t•\tIf the user’s sentiment is unclear and you cannot infer it, return \"UnClear\" with a score of 0 in the final remarks.\n",
      "    •   User intent keeps shifting without confirmation, or user gives up or changes topic suddenly. In This return \"UNCLEAR\"\n",
      "\n",
      "---\n",
      "\n",
      "Input format:\n",
      "CONVERSATION:\n",
      "user: Zertifikat anfordern\n",
      "bot: Falls ich das richtig verstanden habe, brauchst du Unterstützung mit der Verwendung deiner MyCard - sei es Tausch/Defekt/(Neu)Aktivierung/Probleme mit dem Drucken (nur für ***** Benutzer) sowie der Verschlüsselung oder PIN-Entsperrung/Zurücksetzung usw. Bei eventuellem **Diebstahl oder Verlust** wirst du **hier ebenso unterstützt**.\n",
      "user: clicks `check_mycard` button with `ja_ das stimmt`\n",
      "bot: **ACHTUNG:** Mit der Einführung der neuen Zertifikatsinfrastruktur im MyCard Umfeld steht nun das MyCard Self Service Portal als zentrales MyCard Tool zur Verfügung. Informationen zu den neuen MyCard Selfservices findest du [hier verlinkt](https://tiny.telekom.de/b8k7xkp0).\n",
      "bot: Im neuen MyCard-Portal kann es noch vorkommen, dass die MyCard-Prozesse wie die MyCard-Update/Ersteinrichtung fehlschlagen. Läuft das MyCard-Update beim ersten Mal auf Fehler, **bitte versuche es einfach erneut**. Es kann leicht vorkommen, dass es dir nur nach mehreren Versuchen gelingt, den Vorgang erfolgreich durchzuführen.\n",
      "\n",
      "**Für ***** Benutzer:**\n",
      "Weiteres zum Thema findest du [über diesen YAMU-Link](https://tiny.telekom.de/5wyfvssx)\n",
      "\n",
      "**Für ***** Benutzer:**\n",
      "Weiteres zum Thema findest du [über diesen YAMU-Link](https://tiny.telekom.de/2zv0hess)\n",
      "bot: In welchem MyCard Thema brauchst du Hilfe?\n",
      "user: clicks `mycard_wa_haupt_buttons` button with `Probleme bzw. Zertifikatsfehler nach Tausch oder Aktualisierung`\n",
      "bot: Probleme mit den Zertifikaten nach Tausch oder Aktualisierung der MyCard können in den meisten Fällen auch mit einer Zertifikatsbereinigung behoben werden. Diese Lösung hilft auch, wenn die **digitale Signatur** nicht richtig funktioniert. \n",
      "Mit Hilfe des [HowDoI Dokuments auf YAM-United](https://tiny.telekom.de/x8rf7a8a) kannst du dies ganz einfach selbst lösen.\n",
      "**Bitte achte darauf deine MyCard vor dem Start des Löschprozesses aus dem Kartenleser zu ziehen!**\n",
      "bot: Hat das geholfen?\n",
      "\n",
      "\n",
      "Output format:\n",
      "The output should be formatted as a JSON instance that conforms to the JSON schema below.\n",
      "\n",
      "As an example, for the schema {\"properties\": {\"foo\": {\"title\": \"Foo\", \"description\": \"a list of strings\", \"type\": \"array\", \"items\": {\"type\": \"string\"}}}, \"required\": [\"foo\"]}\n",
      "the object {\"foo\": [\"bar\", \"baz\"]} is a well-formatted instance of the schema. The object {\"properties\": {\"foo\": [\"bar\", \"baz\"]}} is not well-formatted.\n",
      "\n",
      "Here is the output schema:\n",
      "```\n",
      "{\"properties\": {\"score\": {\"description\": \"\\n    Satisfaction Score: [0 to 5]  \\n        0 = Unclear, Unclear conversation, confusion, unresolved, user intent misunderstood or lost.\\n        1 = Very dissatisfied  \\n        2 = Dissatisfied  \\n        3 = Neutral / Mixed  \\n        4 = Satisfied  \\n        5 = Very satisfied\\n    \", \"enum\": [0, 1, 2, 3, 4, 5], \"title\": \"Score\", \"type\": \"integer\"}, \"reasoning\": {\"description\": \"\\n    Short and crisp pointers for the score awarded.\\n    Low scores means more pointers in the negative sections.\\n    High scores means more pointers in the positive sections.\\n    The Summary should have 2 sections.\\n    Positive:\\n    •\\tWhat was positive pointers in the chat, considering the evaluation criteria. \\n    Negative:\\n    •\\tWhat was negative pointers in the chat, considering the evaluation criteria. If there is no negative pointer, then return \\\"No negative experience\\\"\\n    \", \"title\": \"Reasoning\", \"type\": \"string\"}, \"satisfaction_label\": {\"description\": \"\\n        The field is a mapping of the score \\n        Mapping for the label is dependent on the score and is mentioned below\\n        0 = Unclear, Unclear conversation, confusion, unresolved, user intent misunderstood or lost.\\n        1 = Very dissatisfied  \\n        2 = Dissatisfied  \\n        3 = Neutral / Mixed  \\n        4 = Satisfied  \\n        5 = Very satisfied\\n        \", \"enum\": [\"Unclear\", \"Very Dissatisfied\", \"Dissatisfied\", \"Neutral\", \"Satisfied\", \"Very Satisfied\"], \"title\": \"Satisfaction Label\", \"type\": \"string\"}}, \"required\": [\"score\", \"reasoning\", \"satisfaction_label\"]}\n",
      "```\n",
      "\n",
      "\n"
     ]
    }
   ],
   "source": [
    "print(sample_prompt)"
   ]
  },
  {
   "cell_type": "code",
   "execution_count": 2,
   "id": "cc7c22d6-c631-43c5-94d7-6a9f2f5c65f2",
   "metadata": {},
   "outputs": [
    {
     "name": "stdout",
     "output_type": "stream",
     "text": [
      "\n",
      "\n",
      "You are evaluating a conversation between company employee and internal IT service desk chatbot. Chatbot is called CSD chatbot and it is supposed to help employees with their workplace related issues, be it HW, SW, account, password or similar issue. Chatbot can provide either self-service support with troubleshooting and resolution of the issue, navigate to proper manual via hyperlink, trigger ticket creation or involvement of human agent.\n",
      "\n",
      "Your goal is to evaluate the interaction from the **user’s perspective**, as if you were the user. Assess how the user likely felt during the interaction, particularly how satisfied, frustrated, or neutral they were based on the responses they received.\n",
      "\n",
      "Use the following criteria to assess the conversation quality:\n",
      "\n",
      "---\n",
      "\n",
      "Evaluation Criteria:\n",
      "1.\tUser Sentiment:\n",
      "\t•\tLook for signs of frustration, repetition, escalation, or unresolved issues.\n",
      "\t•\tBe cautious about users who initially seem neutral but express dissatisfaction near the end.\n",
      "\t•\tIf the sentiment is ambiguous or not clearly positive/negative, return “Unclear”.\n",
      "2.\tTask Completion:\n",
      "\t•\tDid the bot resolve the user’s request or guide them to a solution?\n",
      "\t•\tOr did the conversation end without a clear resolution?\n",
      "3.\tClarity of Understanding:\n",
      "\t•\tDid the bot understand the intent clearly?\n",
      "\t•\tWas the user forced to rephrase or correct the bot?\n",
      "4.\tTone and Sentiment of Bot:\n",
      "\t•\tWas the tone helpful, cold, overly generic, or repetitive?\n",
      "\t•\tDid it acknowledge the user’s problem empathetically?\n",
      "5.\tUser Experience Flow:\n",
      "\t•\tWas the interaction smooth and intuitive?\n",
      "\t•\tDid the bot offer clear next steps or help links?\n",
      "6.\tEscalation or Confusion:\n",
      "\t•\tDid the bot offer escalation to human support when needed?\n",
      "\t•\tDid the bot loop the user or confuse them further?\n",
      "7. Unclear Conversations:\n",
      "   Assign the **“Unclear”** label **only** when one or more of the following apply:\n",
      "    • User message is vague, contextless, or disconnected from previous messages.\n",
      "    • There are **loops or resets in the conversation** without progress or clarity.\n",
      "    • User intent keeps shifting without confirmation, or user gives up or changes topic suddenly.\n",
      "\n",
      "If a message is UnClear then dont consider any other evaluation criteria. Return only unclear.\n",
      "\n",
      "Strict Instruction:\n",
      "\t•\tAlways penalize for repetition of bot prompts i.e. bot did not understand the user.\n",
      "\t•\tIf the user has to click the same button twice or is asked to rephrase repeatedly, subtract marks.\n",
      "\t•\tDo not give high scores if the conversation ends without clear confirmation that the user’s issue is resolved.\n",
      "\t•\tIf the user’s sentiment is unclear and you cannot infer it, return \"UnClear\" with a score of 0 in the final remarks.\n",
      "    •   User intent keeps shifting without confirmation, or user gives up or changes topic suddenly. In This return \"UNCLEAR\"\n",
      "\n",
      "---\n",
      "\n",
      "Input format:\n",
      "CONVERSATION:\n",
      "A\n",
      "\n",
      "Output format:\n",
      "The output should be formatted as a JSON instance that conforms to the JSON schema below.\n",
      "\n",
      "As an example, for the schema {\"properties\": {\"foo\": {\"title\": \"Foo\", \"description\": \"a list of strings\", \"type\": \"array\", \"items\": {\"type\": \"string\"}}}, \"required\": [\"foo\"]}\n",
      "the object {\"foo\": [\"bar\", \"baz\"]} is a well-formatted instance of the schema. The object {\"properties\": {\"foo\": [\"bar\", \"baz\"]}} is not well-formatted.\n",
      "\n",
      "Here is the output schema:\n",
      "```\n",
      "{\"properties\": {\"score\": {\"description\": \"\\n    Satisfaction Score: [0 to 5]  \\n        0 = Unclear, Unclear conversation, confusion, unresolved, user intent misunderstood or lost.\\n        1 = Very dissatisfied  \\n        2 = Dissatisfied  \\n        3 = Neutral / Mixed  \\n        4 = Satisfied  \\n        5 = Very satisfied\\n    \", \"enum\": [0, 1, 2, 3, 4, 5], \"title\": \"Score\", \"type\": \"integer\"}, \"reasoning\": {\"description\": \"\\n    Short and crisp pointers for the score awarded.\\n    Low scores means more pointers in the negative sections.\\n    High scores means more pointers in the positive sections.\\n    The Summary should have 2 sections.\\n    Positive:\\n    •\\tWhat was positive pointers in the chat, considering the evaluation criteria. \\n    Negative:\\n    •\\tWhat was negative pointers in the chat, considering the evaluation criteria. If there is no negative pointer, then return \\\"No negative experience\\\"\\n    \", \"title\": \"Reasoning\", \"type\": \"string\"}, \"satisfaction_label\": {\"description\": \"\\n        The field is a mapping of the score \\n        Mapping for the label is dependent on the score and is mentioned below\\n        0 = Unclear, Unclear conversation, confusion, unresolved, user intent misunderstood or lost.\\n        1 = Very dissatisfied  \\n        2 = Dissatisfied  \\n        3 = Neutral / Mixed  \\n        4 = Satisfied  \\n        5 = Very satisfied\\n        \", \"enum\": [\"Unclear\", \"Very Dissatisfied\", \"Dissatisfied\", \"Neutral\", \"Satisfied\", \"Very Satisfied\"], \"title\": \"Satisfaction Label\", \"type\": \"string\"}}, \"required\": [\"score\", \"reasoning\", \"satisfaction_label\"]}\n",
      "```\n",
      "\n",
      "\n"
     ]
    }
   ],
   "source": [
    "print(prompt_exm.format(chat_transcript = \"A\", \n",
    "                        format_instruction=parser.get_format_instructions()))"
   ]
  },
  {
   "cell_type": "code",
   "execution_count": null,
   "id": "3a1d62d4-5f60-43e2-8a1a-a112f48e1484",
   "metadata": {},
   "outputs": [],
   "source": []
  },
  {
   "cell_type": "code",
   "execution_count": 2,
   "id": "e33f9fc7-dce4-46f2-a3a1-0bfacae2346a",
   "metadata": {},
   "outputs": [
    {
     "data": {
      "text/plain": [
       "'/Users/A118390615/Library/CloudStorage/OneDrive-DeutscheTelekomAG/Projects/CSD/adhocs/evaluation_framework/pipeline_architecture'"
      ]
     },
     "execution_count": 2,
     "metadata": {},
     "output_type": "execute_result"
    }
   ],
   "source": [
    "os.getcwd()"
   ]
  },
  {
   "cell_type": "code",
   "execution_count": null,
   "id": "9758be22-d08d-4ba1-9cdd-5b3ef5e96f21",
   "metadata": {},
   "outputs": [],
   "source": []
  }
 ],
 "metadata": {
  "kernelspec": {
   "display_name": "Python 3 (ipykernel)",
   "language": "python",
   "name": "python3"
  },
  "language_info": {
   "codemirror_mode": {
    "name": "ipython",
    "version": 3
   },
   "file_extension": ".py",
   "mimetype": "text/x-python",
   "name": "python",
   "nbconvert_exporter": "python",
   "pygments_lexer": "ipython3",
   "version": "3.12.0"
  }
 },
 "nbformat": 4,
 "nbformat_minor": 5
}
